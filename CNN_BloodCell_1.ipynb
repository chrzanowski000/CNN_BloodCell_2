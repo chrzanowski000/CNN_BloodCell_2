{
  "cells": [
    {
      "cell_type": "markdown",
      "metadata": {
        "collapsed": false,
        "id": "bbyayKmx5UkU",
        "pycharm": {
          "name": "#%% md\n"
        }
      },
      "source": [
        "Whole notebook has been run on Paperspace Gradient,\n",
        "\n",
        "created by: Michał Chrzanowski 2022"
      ]
    },
    {
      "cell_type": "code",
      "execution_count": 1,
      "metadata": {
        "id": "ETIz7k-CqFE0",
        "pycharm": {
          "name": "#%%\n"
        }
      },
      "outputs": [],
      "source": [
        "#modules not used in this notebook but may come in handy later\n",
        "\n",
        "# image processing of images\n",
        "from skimage.color import rgb2hsv, hsv2rgb\n",
        "def color_isolate(img):\n",
        "    img = cv2.cvtColor(img, cv2.COLOR_BGR2HSV)\n",
        "    img_hsv = rgb2hsv(img[:,:,:3])   \n",
        "    #MASK\n",
        "    mask_1 = img_hsv [:,:,0] > 200/360\n",
        "    mask_2 = img_hsv [:,:,0] < 280/360\n",
        "    saturation_1 = img_hsv [:,:,1] > 0.35\n",
        "    saturation_2 = img_hsv [:,:,1] < 0.70\n",
        "    \n",
        "    mask= mask_1*mask_1*saturation_1*saturation_2\n",
        "\n",
        "    image_filtered = np.dstack((img[:,:,0]*mask,\n",
        "                                img[:,:,1]*mask,\n",
        "                                img[:,:,2]*mask))\n",
        "\n",
        "    return image_filtered\n",
        "\n",
        "#used to preview images loaded in model\n",
        "def imshow(img):\n",
        "    npimg = img.numpy()[0]\n",
        "    plt.imshow(np.transpose(npimg, (1, 2, 0)), interpolation='nearest')"
      ]
    },
    {
      "cell_type": "code",
      "execution_count": 2,
      "metadata": {
        "colab": {
          "base_uri": "https://localhost:8080/"
        },
        "id": "vTucYHtcAzU6",
        "outputId": "35553a2c-0d8e-49db-e6a2-6ca1a8038775",
        "pycharm": {
          "name": "#%%\n"
        }
      },
      "outputs": [
        {
          "name": "stdout",
          "output_type": "stream",
          "text": [
            "No LSB modules are available.\n",
            "Distributor ID:\tUbuntu\n",
            "Description:\tUbuntu 20.04.4 LTS\n",
            "Release:\t20.04\n",
            "Codename:\tfocal\n",
            "processor\t: 0\n",
            "vendor_id\t: GenuineIntel\n",
            "cpu family\t: 6\n",
            "model\t\t: 106\n",
            "model name\t: Intel(R) Xeon(R) Gold 5315Y CPU @ 3.20GHz\n",
            "stepping\t: 6\n",
            "microcode\t: 0xd000363\n",
            "cpu MHz\t\t: 3200.109\n",
            "cache size\t: 12288 KB\n",
            "physical id\t: 0\n",
            "siblings\t: 8\n",
            "core id\t\t: 0\n",
            "cpu cores\t: 8\n",
            "apicid\t\t: 0\n",
            "initial apicid\t: 0\n",
            "fpu\t\t: yes\n",
            "fpu_exception\t: yes\n",
            "cpuid level\t: 13\n",
            "wp\t\t: yes\n",
            "flags\t\t: fpu vme de pse tsc msr pae mce cx8 apic sep mtrr pge mca cmov pat pse36 clflush mmx fxsr sse sse2 ht syscall nx pdpe1gb rdtscp lm constant_tsc rep_good nopl cpuid pni pclmulqdq ssse3 fma cx16 sse4_1 sse4_2 movbe popcnt aes xsave avx f16c rdrand hypervisor lahf_lm abm 3dnowprefetch cpuid_fault pti ibpb fsgsbase bmi1 avx2 smep bmi2 rdseed adx smap clflushopt clwb sha_ni xsaveopt xsavec xgetbv1 xsaves umip rdpid\n",
            "bugs\t\t: cpu_meltdown spectre_v1 spectre_v2 spec_store_bypass l1tf mds swapgs itlb_multihit mmio_stale_data\n",
            "bogomips\t: 6400.84\n",
            "clflush size\t: 64\n",
            "cache_alignment\t: 64\n",
            "address sizes\t: 46 bits physical, 48 bits virtual\n",
            "power management:\n",
            "\n",
            "processor\t: 1\n",
            "vendor_id\t: GenuineIntel\n",
            "cpu family\t: 6\n",
            "model\t\t: 106\n",
            "model name\t: Intel(R) Xeon(R) Gold 5315Y CPU @ 3.20GHz\n",
            "stepping\t: 6\n",
            "microcode\t: 0xd000363\n",
            "cpu MHz\t\t: 3200.109\n",
            "cache size\t: 12288 KB\n",
            "physical id\t: 0\n",
            "siblings\t: 8\n",
            "core id\t\t: 2\n",
            "cpu cores\t: 8\n",
            "apicid\t\t: 2\n",
            "initial apicid\t: 2\n",
            "fpu\t\t: yes\n",
            "fpu_exception\t: yes\n",
            "cpuid level\t: 13\n",
            "wp\t\t: yes\n",
            "flags\t\t: fpu vme de pse tsc msr pae mce cx8 apic sep mtrr pge mca cmov pat pse36 clflush mmx fxsr sse sse2 ht syscall nx pdpe1gb rdtscp lm constant_tsc rep_good nopl cpuid pni pclmulqdq ssse3 fma cx16 sse4_1 sse4_2 movbe popcnt aes xsave avx f16c rdrand hypervisor lahf_lm abm 3dnowprefetch cpuid_fault pti ibpb fsgsbase bmi1 avx2 smep bmi2 rdseed adx smap clflushopt clwb sha_ni xsaveopt xsavec xgetbv1 xsaves umip rdpid\n",
            "bugs\t\t: cpu_meltdown spectre_v1 spectre_v2 spec_store_bypass l1tf mds swapgs itlb_multihit mmio_stale_data\n",
            "bogomips\t: 6400.84\n",
            "clflush size\t: 64\n",
            "cache_alignment\t: 64\n",
            "address sizes\t: 46 bits physical, 48 bits virtual\n",
            "power management:\n",
            "\n",
            "processor\t: 2\n",
            "vendor_id\t: GenuineIntel\n",
            "cpu family\t: 6\n",
            "model\t\t: 106\n",
            "model name\t: Intel(R) Xeon(R) Gold 5315Y CPU @ 3.20GHz\n",
            "stepping\t: 6\n",
            "microcode\t: 0xd000363\n",
            "cpu MHz\t\t: 3200.109\n",
            "cache size\t: 12288 KB\n",
            "physical id\t: 0\n",
            "siblings\t: 8\n",
            "core id\t\t: 4\n",
            "cpu cores\t: 8\n",
            "apicid\t\t: 4\n",
            "initial apicid\t: 4\n",
            "fpu\t\t: yes\n",
            "fpu_exception\t: yes\n",
            "cpuid level\t: 13\n",
            "wp\t\t: yes\n",
            "flags\t\t: fpu vme de pse tsc msr pae mce cx8 apic sep mtrr pge mca cmov pat pse36 clflush mmx fxsr sse sse2 ht syscall nx pdpe1gb rdtscp lm constant_tsc rep_good nopl cpuid pni pclmulqdq ssse3 fma cx16 sse4_1 sse4_2 movbe popcnt aes xsave avx f16c rdrand hypervisor lahf_lm abm 3dnowprefetch cpuid_fault pti ibpb fsgsbase bmi1 avx2 smep bmi2 rdseed adx smap clflushopt clwb sha_ni xsaveopt xsavec xgetbv1 xsaves umip rdpid\n",
            "bugs\t\t: cpu_meltdown spectre_v1 spectre_v2 spec_store_bypass l1tf mds swapgs itlb_multihit mmio_stale_data\n",
            "bogomips\t: 6400.84\n",
            "clflush size\t: 64\n",
            "cache_alignment\t: 64\n",
            "address sizes\t: 46 bits physical, 48 bits virtual\n",
            "power management:\n",
            "\n",
            "processor\t: 3\n",
            "vendor_id\t: GenuineIntel\n",
            "cpu family\t: 6\n",
            "model\t\t: 106\n",
            "model name\t: Intel(R) Xeon(R) Gold 5315Y CPU @ 3.20GHz\n",
            "stepping\t: 6\n",
            "microcode\t: 0xd000363\n",
            "cpu MHz\t\t: 3200.109\n",
            "cache size\t: 12288 KB\n",
            "physical id\t: 0\n",
            "siblings\t: 8\n",
            "core id\t\t: 6\n",
            "cpu cores\t: 8\n",
            "apicid\t\t: 6\n",
            "initial apicid\t: 6\n",
            "fpu\t\t: yes\n",
            "fpu_exception\t: yes\n",
            "cpuid level\t: 13\n",
            "wp\t\t: yes\n",
            "flags\t\t: fpu vme de pse tsc msr pae mce cx8 apic sep mtrr pge mca cmov pat pse36 clflush mmx fxsr sse sse2 ht syscall nx pdpe1gb rdtscp lm constant_tsc rep_good nopl cpuid pni pclmulqdq ssse3 fma cx16 sse4_1 sse4_2 movbe popcnt aes xsave avx f16c rdrand hypervisor lahf_lm abm 3dnowprefetch cpuid_fault pti ibpb fsgsbase bmi1 avx2 smep bmi2 rdseed adx smap clflushopt clwb sha_ni xsaveopt xsavec xgetbv1 xsaves umip rdpid\n",
            "bugs\t\t: cpu_meltdown spectre_v1 spectre_v2 spec_store_bypass l1tf mds swapgs itlb_multihit mmio_stale_data\n",
            "bogomips\t: 6400.84\n",
            "clflush size\t: 64\n",
            "cache_alignment\t: 64\n",
            "address sizes\t: 46 bits physical, 48 bits virtual\n",
            "power management:\n",
            "\n",
            "processor\t: 4\n",
            "vendor_id\t: GenuineIntel\n",
            "cpu family\t: 6\n",
            "model\t\t: 106\n",
            "model name\t: Intel(R) Xeon(R) Gold 5315Y CPU @ 3.20GHz\n",
            "stepping\t: 6\n",
            "microcode\t: 0xd000363\n",
            "cpu MHz\t\t: 3200.109\n",
            "cache size\t: 12288 KB\n",
            "physical id\t: 0\n",
            "siblings\t: 8\n",
            "core id\t\t: 8\n",
            "cpu cores\t: 8\n",
            "apicid\t\t: 8\n",
            "initial apicid\t: 8\n",
            "fpu\t\t: yes\n",
            "fpu_exception\t: yes\n",
            "cpuid level\t: 13\n",
            "wp\t\t: yes\n",
            "flags\t\t: fpu vme de pse tsc msr pae mce cx8 apic sep mtrr pge mca cmov pat pse36 clflush mmx fxsr sse sse2 ht syscall nx pdpe1gb rdtscp lm constant_tsc rep_good nopl cpuid pni pclmulqdq ssse3 fma cx16 sse4_1 sse4_2 movbe popcnt aes xsave avx f16c rdrand hypervisor lahf_lm abm 3dnowprefetch cpuid_fault pti ibpb fsgsbase bmi1 avx2 smep bmi2 rdseed adx smap clflushopt clwb sha_ni xsaveopt xsavec xgetbv1 xsaves umip rdpid\n",
            "bugs\t\t: cpu_meltdown spectre_v1 spectre_v2 spec_store_bypass l1tf mds swapgs itlb_multihit mmio_stale_data\n",
            "bogomips\t: 6400.84\n",
            "clflush size\t: 64\n",
            "cache_alignment\t: 64\n",
            "address sizes\t: 46 bits physical, 48 bits virtual\n",
            "power management:\n",
            "\n",
            "processor\t: 5\n",
            "vendor_id\t: GenuineIntel\n",
            "cpu family\t: 6\n",
            "model\t\t: 106\n",
            "model name\t: Intel(R) Xeon(R) Gold 5315Y CPU @ 3.20GHz\n",
            "stepping\t: 6\n",
            "microcode\t: 0xd000363\n",
            "cpu MHz\t\t: 3200.109\n",
            "cache size\t: 12288 KB\n",
            "physical id\t: 0\n",
            "siblings\t: 8\n",
            "core id\t\t: 10\n",
            "cpu cores\t: 8\n",
            "apicid\t\t: 10\n",
            "initial apicid\t: 10\n",
            "fpu\t\t: yes\n",
            "fpu_exception\t: yes\n",
            "cpuid level\t: 13\n",
            "wp\t\t: yes\n",
            "flags\t\t: fpu vme de pse tsc msr pae mce cx8 apic sep mtrr pge mca cmov pat pse36 clflush mmx fxsr sse sse2 ht syscall nx pdpe1gb rdtscp lm constant_tsc rep_good nopl cpuid pni pclmulqdq ssse3 fma cx16 sse4_1 sse4_2 movbe popcnt aes xsave avx f16c rdrand hypervisor lahf_lm abm 3dnowprefetch cpuid_fault pti ibpb fsgsbase bmi1 avx2 smep bmi2 rdseed adx smap clflushopt clwb sha_ni xsaveopt xsavec xgetbv1 xsaves umip rdpid\n",
            "bugs\t\t: cpu_meltdown spectre_v1 spectre_v2 spec_store_bypass l1tf mds swapgs itlb_multihit mmio_stale_data\n",
            "bogomips\t: 6400.84\n",
            "clflush size\t: 64\n",
            "cache_alignment\t: 64\n",
            "address sizes\t: 46 bits physical, 48 bits virtual\n",
            "power management:\n",
            "\n",
            "processor\t: 6\n",
            "vendor_id\t: GenuineIntel\n",
            "cpu family\t: 6\n",
            "model\t\t: 106\n",
            "model name\t: Intel(R) Xeon(R) Gold 5315Y CPU @ 3.20GHz\n",
            "stepping\t: 6\n",
            "microcode\t: 0xd000363\n",
            "cpu MHz\t\t: 3200.109\n",
            "cache size\t: 12288 KB\n",
            "physical id\t: 0\n",
            "siblings\t: 8\n",
            "core id\t\t: 12\n",
            "cpu cores\t: 8\n",
            "apicid\t\t: 12\n",
            "initial apicid\t: 12\n",
            "fpu\t\t: yes\n",
            "fpu_exception\t: yes\n",
            "cpuid level\t: 13\n",
            "wp\t\t: yes\n",
            "flags\t\t: fpu vme de pse tsc msr pae mce cx8 apic sep mtrr pge mca cmov pat pse36 clflush mmx fxsr sse sse2 ht syscall nx pdpe1gb rdtscp lm constant_tsc rep_good nopl cpuid pni pclmulqdq ssse3 fma cx16 sse4_1 sse4_2 movbe popcnt aes xsave avx f16c rdrand hypervisor lahf_lm abm 3dnowprefetch cpuid_fault pti ibpb fsgsbase bmi1 avx2 smep bmi2 rdseed adx smap clflushopt clwb sha_ni xsaveopt xsavec xgetbv1 xsaves umip rdpid\n",
            "bugs\t\t: cpu_meltdown spectre_v1 spectre_v2 spec_store_bypass l1tf mds swapgs itlb_multihit mmio_stale_data\n",
            "bogomips\t: 6400.84\n",
            "clflush size\t: 64\n",
            "cache_alignment\t: 64\n",
            "address sizes\t: 46 bits physical, 48 bits virtual\n",
            "power management:\n",
            "\n",
            "processor\t: 7\n",
            "vendor_id\t: GenuineIntel\n",
            "cpu family\t: 6\n",
            "model\t\t: 106\n",
            "model name\t: Intel(R) Xeon(R) Gold 5315Y CPU @ 3.20GHz\n",
            "stepping\t: 6\n",
            "microcode\t: 0xd000363\n",
            "cpu MHz\t\t: 3200.109\n",
            "cache size\t: 12288 KB\n",
            "physical id\t: 0\n",
            "siblings\t: 8\n",
            "core id\t\t: 14\n",
            "cpu cores\t: 8\n",
            "apicid\t\t: 14\n",
            "initial apicid\t: 14\n",
            "fpu\t\t: yes\n",
            "fpu_exception\t: yes\n",
            "cpuid level\t: 13\n",
            "wp\t\t: yes\n",
            "flags\t\t: fpu vme de pse tsc msr pae mce cx8 apic sep mtrr pge mca cmov pat pse36 clflush mmx fxsr sse sse2 ht syscall nx pdpe1gb rdtscp lm constant_tsc rep_good nopl cpuid pni pclmulqdq ssse3 fma cx16 sse4_1 sse4_2 movbe popcnt aes xsave avx f16c rdrand hypervisor lahf_lm abm 3dnowprefetch cpuid_fault pti ibpb fsgsbase bmi1 avx2 smep bmi2 rdseed adx smap clflushopt clwb sha_ni xsaveopt xsavec xgetbv1 xsaves umip rdpid\n",
            "bugs\t\t: cpu_meltdown spectre_v1 spectre_v2 spec_store_bypass l1tf mds swapgs itlb_multihit mmio_stale_data\n",
            "bogomips\t: 6400.84\n",
            "clflush size\t: 64\n",
            "cache_alignment\t: 64\n",
            "address sizes\t: 46 bits physical, 48 bits virtual\n",
            "power management:\n",
            "\n",
            "Filesystem                                                                         Size  Used Avail Use% Mounted on\n",
            "overlay                                                                            246G   72G  165G  31% /\n",
            "tmpfs                                                                               64M     0   64M   0% /dev\n",
            "tmpfs                                                                               23G     0   23G   0% /sys/fs/cgroup\n",
            "10.0.3.159:6789,10.0.3.160:6789,10.0.3.161:6789,10.0.3.153:6789,10.0.3.158:6789:/  192T  156T   37T  81% /storage\n",
            "/dev/mapper/ubuntu--vg-root                                                        246G   72G  165G  31% /datasets\n",
            "tmpfs                                                                               23G  720K   23G   1% /dev/shm\n",
            "tmpfs                                                                               23G   12K   23G   1% /run/secrets/kubernetes.io/serviceaccount\n",
            "tmpfs                                                                               23G   12K   23G   1% /proc/driver/nvidia\n",
            "tmpfs                                                                              4.5G   16M  4.4G   1% /run/nvidia-persistenced/socket\n",
            "udev                                                                                22G     0   22G   0% /dev/nvidia0\n",
            "tmpfs                                                                               23G     0   23G   0% /proc/scsi\n",
            "tmpfs                                                                               23G     0   23G   0% /sys/firmware\n",
            "MemTotal:       46244276 kB\n",
            "MemFree:        19438192 kB\n",
            "MemAvailable:   42112652 kB\n",
            "Buffers:          837496 kB\n",
            "Cached:         20964476 kB\n",
            "SwapCached:            0 kB\n",
            "Active:         10300380 kB\n",
            "Inactive:       14760316 kB\n",
            "Active(anon):    3078244 kB\n",
            "Inactive(anon):     1432 kB\n",
            "Active(file):    7222136 kB\n",
            "Inactive(file): 14758884 kB\n",
            "Unevictable:           0 kB\n",
            "Mlocked:               0 kB\n",
            "SwapTotal:             0 kB\n",
            "SwapFree:              0 kB\n",
            "Dirty:               312 kB\n",
            "Writeback:             0 kB\n",
            "AnonPages:       3258756 kB\n",
            "Mapped:           391528 kB\n",
            "Shmem:             16416 kB\n",
            "KReclaimable:    1265040 kB\n",
            "Slab:            1551528 kB\n",
            "SReclaimable:    1265040 kB\n",
            "SUnreclaim:       286488 kB\n",
            "KernelStack:       18144 kB\n",
            "PageTables:        28972 kB\n",
            "NFS_Unstable:          0 kB\n",
            "Bounce:                0 kB\n",
            "WritebackTmp:          0 kB\n",
            "CommitLimit:    23122136 kB\n",
            "Committed_AS:   16224920 kB\n",
            "VmallocTotal:   34359738367 kB\n",
            "VmallocUsed:       85084 kB\n",
            "VmallocChunk:          0 kB\n",
            "Percpu:            18432 kB\n",
            "HardwareCorrupted:     0 kB\n",
            "AnonHugePages:      8192 kB\n",
            "ShmemHugePages:        0 kB\n",
            "ShmemPmdMapped:        0 kB\n",
            "FileHugePages:         0 kB\n",
            "FilePmdMapped:         0 kB\n",
            "CmaTotal:              0 kB\n",
            "CmaFree:               0 kB\n",
            "HugePages_Total:       0\n",
            "HugePages_Free:        0\n",
            "HugePages_Rsvd:        0\n",
            "HugePages_Surp:        0\n",
            "Hugepagesize:       2048 kB\n",
            "Hugetlb:               0 kB\n",
            "DirectMap4k:     1529856 kB\n",
            "DirectMap2M:    38307840 kB\n",
            "DirectMap1G:     7340032 kB\n",
            "Reading package lists... Done\n",
            "Building dependency tree       \n",
            "Reading state information... Done\n",
            "\u001b[1;31mE: \u001b[0mUnable to locate package speedtest-cli\u001b[0m\n",
            "/bin/bash: speedtest-cli: command not found\n"
          ]
        }
      ],
      "source": [
        "!lsb_release -a #Linux info\n",
        "!cat /proc/cpuinfo # CPU info\n",
        "!df -h #disc info\n",
        "!cat /proc/meminfo #RAM info\n",
        "!sudo apt install speedtest-cli #library for speedtesting\n",
        "!speedtest-cli # network speed test"
      ]
    },
    {
      "cell_type": "code",
      "execution_count": 3,
      "metadata": {
        "colab": {
          "base_uri": "https://localhost:8080/"
        },
        "id": "ZkAHGr3iBN8t",
        "outputId": "efc3590c-0023-4cfa-940c-45feaff69ba1",
        "pycharm": {
          "name": "#%%\n"
        }
      },
      "outputs": [
        {
          "name": "stdout",
          "output_type": "stream",
          "text": [
            "Wed Oct 26 19:26:38 2022       \n",
            "+-----------------------------------------------------------------------------+\n",
            "| NVIDIA-SMI 510.73.05    Driver Version: 510.73.05    CUDA Version: 11.6     |\n",
            "|-------------------------------+----------------------+----------------------+\n",
            "| GPU  Name        Persistence-M| Bus-Id        Disp.A | Volatile Uncorr. ECC |\n",
            "| Fan  Temp  Perf  Pwr:Usage/Cap|         Memory-Usage | GPU-Util  Compute M. |\n",
            "|                               |                      |               MIG M. |\n",
            "|===============================+======================+======================|\n",
            "|   0  NVIDIA RTX A4000    Off  | 00000000:00:05.0 Off |                  Off |\n",
            "| 66%   71C    P8    23W / 140W |      0MiB / 16376MiB |      0%      Default |\n",
            "|                               |                      |                  N/A |\n",
            "+-------------------------------+----------------------+----------------------+\n",
            "                                                                               \n",
            "+-----------------------------------------------------------------------------+\n",
            "| Processes:                                                                  |\n",
            "|  GPU   GI   CI        PID   Type   Process name                  GPU Memory |\n",
            "|        ID   ID                                                   Usage      |\n",
            "|=============================================================================|\n",
            "|  No running processes found                                                 |\n",
            "+-----------------------------------------------------------------------------+\n"
          ]
        }
      ],
      "source": [
        "!nvidia-smi #GPU info"
      ]
    },
    {
      "cell_type": "code",
      "execution_count": 4,
      "metadata": {
        "colab": {
          "base_uri": "https://localhost:8080/"
        },
        "id": "NGTvVH2x63y2",
        "outputId": "2e1cb934-7c9c-4ba8-aa29-a07291d6a96f",
        "pycharm": {
          "name": "#%%\n"
        }
      },
      "outputs": [
        {
          "name": "stdout",
          "output_type": "stream",
          "text": [
            "allocated CUDA memory:  0\n",
            "cached CUDA memory:  0\n"
          ]
        },
        {
          "name": "stderr",
          "output_type": "stream",
          "text": [
            "/usr/local/lib/python3.9/dist-packages/torch/cuda/memory.py:391: FutureWarning: torch.cuda.memory_cached has been renamed to torch.cuda.memory_reserved\n",
            "  warnings.warn(\n"
          ]
        },
        {
          "name": "stdout",
          "output_type": "stream",
          "text": [
            "Requirement already satisfied: wandb in /usr/local/lib/python3.9/dist-packages (0.13.4)\n",
            "Requirement already satisfied: psutil>=5.0.0 in /usr/local/lib/python3.9/dist-packages (from wandb) (5.9.1)\n",
            "Requirement already satisfied: six>=1.13.0 in /usr/lib/python3/dist-packages (from wandb) (1.14.0)\n",
            "Requirement already satisfied: pathtools in /usr/local/lib/python3.9/dist-packages (from wandb) (0.1.2)\n",
            "Requirement already satisfied: protobuf!=4.0.*,!=4.21.0,<5,>=3.12.0 in /usr/local/lib/python3.9/dist-packages (from wandb) (3.19.4)\n",
            "Requirement already satisfied: GitPython>=1.0.0 in /usr/local/lib/python3.9/dist-packages (from wandb) (3.1.27)\n",
            "Requirement already satisfied: setproctitle in /usr/local/lib/python3.9/dist-packages (from wandb) (1.3.2)\n",
            "Requirement already satisfied: shortuuid>=0.5.0 in /usr/local/lib/python3.9/dist-packages (from wandb) (1.0.9)\n",
            "Requirement already satisfied: requests<3,>=2.0.0 in /usr/local/lib/python3.9/dist-packages (from wandb) (2.28.1)\n",
            "Requirement already satisfied: promise<3,>=2.0 in /usr/local/lib/python3.9/dist-packages (from wandb) (2.3)\n",
            "Requirement already satisfied: setuptools in /usr/local/lib/python3.9/dist-packages (from wandb) (63.1.0)\n",
            "Requirement already satisfied: Click!=8.0.0,>=7.0 in /usr/local/lib/python3.9/dist-packages (from wandb) (8.1.3)\n",
            "Requirement already satisfied: sentry-sdk>=1.0.0 in /usr/local/lib/python3.9/dist-packages (from wandb) (1.10.1)\n",
            "Requirement already satisfied: docker-pycreds>=0.4.0 in /usr/local/lib/python3.9/dist-packages (from wandb) (0.4.0)\n",
            "Requirement already satisfied: PyYAML in /usr/local/lib/python3.9/dist-packages (from wandb) (5.4.1)\n",
            "Requirement already satisfied: gitdb<5,>=4.0.1 in /usr/local/lib/python3.9/dist-packages (from GitPython>=1.0.0->wandb) (4.0.9)\n",
            "Requirement already satisfied: urllib3<1.27,>=1.21.1 in /usr/local/lib/python3.9/dist-packages (from requests<3,>=2.0.0->wandb) (1.26.12)\n",
            "Requirement already satisfied: charset-normalizer<3,>=2 in /usr/local/lib/python3.9/dist-packages (from requests<3,>=2.0.0->wandb) (2.1.0)\n",
            "Requirement already satisfied: idna<4,>=2.5 in /usr/lib/python3/dist-packages (from requests<3,>=2.0.0->wandb) (2.8)\n",
            "Requirement already satisfied: certifi>=2017.4.17 in /usr/lib/python3/dist-packages (from requests<3,>=2.0.0->wandb) (2019.11.28)\n",
            "Requirement already satisfied: smmap<6,>=3.0.1 in /usr/local/lib/python3.9/dist-packages (from gitdb<5,>=4.0.1->GitPython>=1.0.0->wandb) (5.0.0)\n",
            "\u001b[33mWARNING: Running pip as the 'root' user can result in broken permissions and conflicting behaviour with the system package manager. It is recommended to use a virtual environment instead: https://pip.pypa.io/warnings/venv\u001b[0m\u001b[33m\n",
            "\u001b[0m\u001b[34m\u001b[1mwandb\u001b[0m: Appending key for api.wandb.ai to your netrc file: /root/.netrc\n"
          ]
        }
      ],
      "source": [
        "# Imports\n",
        "import time\n",
        "import torch\n",
        "import torchvision  # torch package for vision related things\n",
        "import torch.nn.functional as F  # Parameterless functions, like (some) activation functions\n",
        "import torchvision.transforms as transforms  # Transformations and augmentations\n",
        "from torch import optim  # For optimizers\n",
        "from torch import nn  # All neural network modules\n",
        "from torch.utils.data import DataLoader #Dataloader module\n",
        "from torch.utils.data import Dataset # Dataset module\n",
        "import torchvision.transforms as transforms\n",
        "import torchvision.utils as vutils # for presentation of images in a grid\n",
        "from tqdm import tqdm #nice progress bar\n",
        "import pandas as pd\n",
        "import numpy as np\n",
        "from skimage.io import imshow, imread\n",
        "import matplotlib.pyplot as plt\n",
        "\n",
        "# Libraries for dataloader\n",
        "from os import listdir\n",
        "from os.path import isfile, join\n",
        "from PIL import Image\n",
        "import cv2\n",
        "#Checking whether GPU RAM is empty\n",
        "print('allocated CUDA memory: ',torch.cuda.memory_allocated())\n",
        "print('cached CUDA memory: ',torch.cuda.memory_cached())\n",
        "# I decided to use external plotting service Weights and biases. It provides easy live preview of model state and  allows convenient runs comparasion\n",
        "!pip install wandb\n",
        "!wandb login 33cccacf373072ab6a5edc82d4770dddf40d42fb\n",
        "import wandb"
      ]
    },
    {
      "cell_type": "code",
      "execution_count": 5,
      "metadata": {
        "tags": [
          "parameters"
        ]
      },
      "outputs": [],
      "source": [
        "## Hyper-parameters\n",
        "root = '/notebooks/dataset2-master/dataset2-master/images'\n",
        "in_channels = 3\n",
        "num_classes = 4\n",
        "learning_rate = 9e-4 # got out of local minima with 9e-4, less than this value seams not to work at all or poorly at most.\n",
        "batch_size = 32\n",
        "num_epochs = 100\n",
        "weight_decay = 0.001\n",
        "\n",
        "from datetime import datetime\n",
        "now = datetime.now()\n",
        "dt_string = now.strftime(\"%d_%m_%Y\")\n",
        "# path to save pytorch models during training\n",
        "PATH = f'/notebooks/logs/model_{dt_string}.pt'\n",
        "\n",
        "wandb.init(config={\n",
        "'root': '/notebooks/dataset2-master/dataset2-master/images',\n",
        "'in_channels': in_channels,\n",
        "'num_classes': num_classes,\n",
        "'learning_rate': learning_rate,\n",
        "'batch_size': batch_size,\n",
        "'num_epochs': num_epochs,\n",
        "'weight_decay': weight_decay\n",
        "})"
      ]
    },
    {
      "cell_type": "code",
      "execution_count": 6,
      "metadata": {},
      "outputs": [],
      "source": [
        "\"\"\"from PIL import Image\n",
        "import os,time\n",
        "import cv2\n",
        "\n",
        "#img_dir='/notebooks/DATA'\n",
        "def verify_folder(folder_dir):\n",
        "    \n",
        "    def verify_image(img_file):\n",
        "         #test image\n",
        "         try:\n",
        "            v_image = Image.open(img_file)\n",
        "            v_image.verify()\n",
        "            return True;\n",
        "            #is valid\n",
        "            #print(\"valid file: \"+img_file)\n",
        "         except OSError:\n",
        "            return False;\n",
        "\n",
        "    for root, dirs, files in os.walk(folder_dir):\n",
        "        for file in files:\n",
        "            if file.endswith(\".jpg\") or file.endswith(\".jpeg\") or file.endswith(\".png\"):\n",
        "                currentFile=os.path.join(root, file)\n",
        "                #print(currentFile)\n",
        "                #test image\n",
        "                if verify_image(currentFile):\n",
        "                    im = cv2.imread(currentFile)\n",
        "                    if im.shape[0] < 64 or im.shape[1] < 64:\n",
        "                        print('undersized file')\n",
        "                        os.remove(currentFile)\n",
        "                else:\n",
        "                    os.remove(currentFile)\n",
        "                    print(\"corrupt file\")\n",
        "                    \n",
        "            else:\n",
        "                os.remove(os.path.join(root, file))\n",
        "                print(\"unsupported file extension\")\n",
        "    print('DONE')\n",
        "                    \n",
        "verify_folder('/notebooks/dataset2-master/dataset2-master/images')\"\"\";"
      ]
    },
    {
      "cell_type": "code",
      "execution_count": 7,
      "metadata": {
        "id": "MEoHkZFK7f_b",
        "pycharm": {
          "name": "#%%\n"
        }
      },
      "outputs": [],
      "source": [
        "# DATALOADERS\n",
        "\n",
        "# Train Loader\n",
        "class BloodCell_train(Dataset):\n",
        "    def __init__(self, root ,transform):\n",
        "        self.labels = []\n",
        "        self.dirName_1 = join(root,'TRAIN/EOSINOPHIL') # path to training data with EOSINOPHILS cells\n",
        "        self.dirName_2 = join(root,'TRAIN/LYMPHOCYTE') # path to training data with LYMPHOCYTES cells\n",
        "        self.dirName_3 = join(root,'TRAIN/MONOCYTE') # path to training data with MONOCYTES cells\n",
        "        self.dirName_4 = join(root,'TRAIN/NEUTROPHIL') # path to training data with NEUTROPHILS cells\n",
        "        self.files_names = []\n",
        "        self.transform = transform\n",
        "        self.load_images()\n",
        "    \n",
        "\n",
        "    def load_images(self):\n",
        "\n",
        "        # create list of paths to images\n",
        "        files_1 = [join(self.dirName_1, f) for f in listdir(self.dirName_1) if isfile(join(self.dirName_1, f))]\n",
        "        files_2 = [join(self.dirName_2, f) for f in listdir(self.dirName_2) if isfile(join(self.dirName_2, f))]\n",
        "        files_3 = [join(self.dirName_3, f) for f in listdir(self.dirName_3) if isfile(join(self.dirName_3, f))]\n",
        "        files_4 = [join(self.dirName_4, f) for f in listdir(self.dirName_4) if isfile(join(self.dirName_4, f))]\n",
        "        \n",
        "\n",
        "        # connect lists of different cells in one big list\n",
        "        self.files_names = files_1 + files_2 + files_3 + files_4\n",
        "\n",
        "        # creating label list\n",
        "        for file_name in files_1:\n",
        "            self.labels.append(0)\n",
        "\n",
        "        for file_name in files_2:\n",
        "            self.labels.append(1)\n",
        "\n",
        "        for file_name in files_3:\n",
        "            self.labels.append(2)\n",
        "\n",
        "        for file_name in files_4:\n",
        "            self.labels.append(3)\n",
        "\n",
        "        del files_1\n",
        "        del files_2\n",
        "        del files_3\n",
        "        del files_4\n",
        "\n",
        "    def __len__(self):\n",
        "        return len(self.labels)\n",
        "\n",
        "    def __getitem__(self, index):\n",
        "        image=cv2.imread(self.files_names[index])\n",
        "        #image = color_isolate(image.astype(np.float32))\n",
        "        y_label = self.labels[index]\n",
        "\n",
        "        if self.transform:\n",
        "            image = self.transform(image)\n",
        "\n",
        "        return (image, y_label)\n",
        "\n",
        "# Test Loader\n",
        "class BloodCell_test(Dataset):\n",
        "    def __init__(self, root,transform):\n",
        "        self.labels = []\n",
        "        self.dirName_1 = join(root,'TEST/EOSINOPHIL') # path to test data with EOSINOPHILS cells\n",
        "        self.dirName_2 = join(root,'TEST/LYMPHOCYTE') # path to test data with LYMPHOCYTES cells\n",
        "        self.dirName_3 = join(root,'TEST/MONOCYTE') # path to test data with MONOCYTES cells\n",
        "        self.dirName_4 = join(root,'TEST/NEUTROPHIL') # path to test data with NEUTROPHILS cellsself.files_names = []\n",
        "        self.files_names = []\n",
        "        self.transform = transform\n",
        "        self.load_images()\n",
        "        \n",
        "\n",
        "    def load_images(self):\n",
        "\n",
        "        # create list of paths to images\n",
        "        files_1 = [join(self.dirName_1, f) for f in listdir(self.dirName_1) if isfile(join(self.dirName_1, f))]\n",
        "        files_2 = [join(self.dirName_2, f) for f in listdir(self.dirName_2) if isfile(join(self.dirName_2, f))]\n",
        "        files_3 = [join(self.dirName_3, f) for f in listdir(self.dirName_3) if isfile(join(self.dirName_3, f))]\n",
        "        files_4 = [join(self.dirName_4, f) for f in listdir(self.dirName_4) if isfile(join(self.dirName_4, f))]\n",
        "        \n",
        "        # connect lists of different cells in one big list\n",
        "        self.files_names = files_1 + files_2 + files_3 + files_4\n",
        "\n",
        "        # creating label list\n",
        "        for file_name in files_1:\n",
        "            self.labels.append(0)\n",
        "\n",
        "        for file_name in files_2:\n",
        "            self.labels.append(1)\n",
        "\n",
        "        for file_name in files_3:\n",
        "            self.labels.append(2)\n",
        "\n",
        "        for file_name in files_4:\n",
        "            self.labels.append(3)\n",
        "\n",
        "        del files_1\n",
        "        del files_2\n",
        "        del files_3\n",
        "        del files_4\n",
        "        \n",
        "    def __len__(self):\n",
        "        return len(self.labels)\n",
        "\n",
        "    def __getitem__(self, index):\n",
        "        image=cv2.imread(self.files_names[index])\n",
        "        #image = color_isolate(image.astype(np.float32))\n",
        "        y_label = self.labels[index]\n",
        "\n",
        "        if self.transform:\n",
        "            image = self.transform(image)\n",
        "\n",
        "        return (image, y_label)\n"
      ]
    },
    {
      "cell_type": "code",
      "execution_count": 8,
      "metadata": {
        "id": "J9W5bQwo5UlD",
        "pycharm": {
          "name": "#%%\n"
        }
      },
      "outputs": [
        {
          "name": "stderr",
          "output_type": "stream",
          "text": [
            "100%|██████████| 9957/9957 [00:14<00:00, 690.82it/s]\n",
            "100%|██████████| 2487/2487 [00:03<00:00, 673.88it/s]\n"
          ]
        },
        {
          "name": "stdout",
          "output_type": "stream",
          "text": [
            "TRAIN dataset ,mean: [0.6604949235916138, 0.6413165926933289, 0.6786165833473206], std: [0.2611522078514099, 0.26364096999168396, 0.2644507884979248]\n",
            "TEST dataset ,mean: [0.6609439253807068, 0.640540361404419, 0.6794524192810059], std: [0.2606455385684967, 0.2622940242290497, 0.26362478733062744]\n"
          ]
        },
        {
          "data": {
            "image/png": "[encoded data removed]",
            "text/plain": [
              "<Figure size 432x288 with 1 Axes>"
            ]
          },
          "metadata": {
            "needs_background": "light"
          },
          "output_type": "display_data"
        }
      ],
      "source": [
        "# for calcualting mean and std od dataset\n",
        "def get_mean_and_std(dataset):\n",
        "    channels_sum, channels_squared_sum, num_batches = 0, 0, 0\n",
        "    for data, _ in tqdm(dataset):\n",
        "        # Mean over batch, height and width, but not over the channels\n",
        "        channels_sum += torch.mean(data, dim=[1,2])\n",
        "        channels_squared_sum += torch.mean(data**2, dim=[1,2])\n",
        "        num_batches += 1\n",
        "\n",
        "    mean = channels_sum / num_batches\n",
        "\n",
        "    # std = sqrt(E[X^2] - (E[X])^2)\n",
        "    std = (channels_squared_sum / num_batches - mean ** 2) ** 0.5\n",
        "\n",
        "    return mean, std\n",
        "\n",
        "Norm_transform = transforms.Compose([transforms.ToTensor()])\n",
        "Norm_dataset_train = BloodCell_train(root=root,transform=Norm_transform)\n",
        "Norm_dataset_test = BloodCell_test(root=root,transform=Norm_transform)\n",
        "\n",
        "mean_train, std_train = get_mean_and_std(Norm_dataset_train)\n",
        "mean_test, std_test = get_mean_and_std(Norm_dataset_test)\n",
        "\n",
        "Norm_dataloader_train = torch.utils.data.DataLoader(dataset=Norm_dataset_train, batch_size=64, shuffle=True, num_workers=2)\n",
        "Norm_loaded_images=next(iter(Norm_dataloader_train))[0]\n",
        "loaded_images_array = np.transpose(vutils.make_grid(Norm_loaded_images, padding=2, normalize=True).cpu().detach().numpy(),(1,2,0))\n",
        "plt.imshow(loaded_images_array)\n",
        "\n",
        "del Norm_dataloader_train, Norm_dataset_train, Norm_dataset_test\n",
        "print(f'TRAIN dataset ,mean: {mean_train.tolist()}, std: {std_train.tolist()}')\n",
        "print(f'TEST dataset ,mean: {mean_test.tolist()}, std: {std_test.tolist()}')"
      ]
    },
    {
      "cell_type": "code",
      "execution_count": 9,
      "metadata": {
        "id": "MrgL0wmx5Uk6",
        "pycharm": {
          "name": "#%%\n"
        }
      },
      "outputs": [],
      "source": [
        "# model creation\n",
        "class CNN(nn.Module):\n",
        "    def __init__(self, in_channels, num_classes):\n",
        "        super(CNN, self).__init__()\n",
        "        self.conv1 = nn.Conv2d(\n",
        "            in_channels=in_channels,\n",
        "            out_channels=9,\n",
        "            kernel_size=(11, 11),\n",
        "            stride=(1, 1),\n",
        "            padding=(1,1),\n",
        "        )\n",
        "        self.conv2 = nn.Conv2d(\n",
        "            in_channels=9,\n",
        "            out_channels=27,\n",
        "            kernel_size=(7, 7),\n",
        "            stride=(1, 1),\n",
        "            padding=(0,0),\n",
        "        )\n",
        "        self.conv3 = nn.Conv2d(\n",
        "            in_channels=27,\n",
        "            out_channels=54,\n",
        "            kernel_size=(5, 5),\n",
        "            stride=(1, 1),\n",
        "            padding=(0,0),\n",
        "        )\n",
        "        self.conv4 = nn.Conv2d(\n",
        "            in_channels=54,\n",
        "            out_channels=54,\n",
        "            kernel_size=(5, 5),\n",
        "            stride=(1, 1),\n",
        "            padding=(1,1),\n",
        "        )\n",
        "        self.conv5 = nn.Conv2d(\n",
        "            in_channels=54,\n",
        "            out_channels=108,\n",
        "            kernel_size=(5, 5),\n",
        "            stride=(1, 1),\n",
        "            padding=(0,0),\n",
        "        )\n",
        "        self.conv6 = nn.Conv2d(\n",
        "            in_channels=108,\n",
        "            out_channels=108,\n",
        "            kernel_size=(3, 3),\n",
        "            stride=(1, 1),\n",
        "            padding=(0,0),\n",
        "        )\n",
        "        self.conv7 = nn.Conv2d(\n",
        "            in_channels=108,\n",
        "            out_channels=108,\n",
        "            kernel_size=(3, 3),\n",
        "            stride=(1, 1),\n",
        "            padding=(0,0),\n",
        "        )\n",
        "        self.conv8 = nn.Conv2d(\n",
        "            in_channels=108,\n",
        "            out_channels=108,\n",
        "            kernel_size=(3, 3),\n",
        "            stride=(1, 1),\n",
        "            padding=(0,0),\n",
        "        )\n",
        "\n",
        "        self.pool5 = nn.MaxPool2d(kernel_size=(5, 5), stride=(5, 5))\n",
        "        self.pool2 = nn.MaxPool2d(kernel_size=(2, 2), stride=(2, 2))\n",
        "        self.drop1d = nn.Dropout(0.5)\n",
        "        self.BatchNorm2d1 = nn.BatchNorm2d(num_features=9)\n",
        "        self.BatchNorm2d3 = nn.BatchNorm2d(num_features=54)\n",
        "        self.fc1 = nn.Linear(41472, 5000)\n",
        "        self.fc2 = nn.Linear(5000, 5000)\n",
        "        self.fc3 = nn.Linear(5000, 5000)\n",
        "        self.fc4 = nn.Linear(5000, num_classes)\n",
        "\n",
        "    def forward(self, x):\n",
        "        x = F.leaky_relu(self.BatchNorm2d1(self.conv1(x)), 0.2)\n",
        "        x = F.leaky_relu(self.conv2(x), 0.2)\n",
        "        x = F.leaky_relu(self.BatchNorm2d3(self.conv3(x)), 0.2)\n",
        "        x = F.leaky_relu(self.conv4(x), 0.2)\n",
        "        x = self.pool5(x)\n",
        "        x = F.leaky_relu(self.conv5(x), 0.2)\n",
        "        x = F.leaky_relu(self.conv6(x), 0.2)\n",
        "        x = F.leaky_relu(self.conv7(x), 0.2)\n",
        "        x = self.pool2(x)\n",
        "        x = F.leaky_relu(self.conv8(x), 0.2)\n",
        "        x = x.reshape(x.shape[0], -1)\n",
        "\n",
        "        x = self.fc1(x)\n",
        "        #x = self.drop1d(x)\n",
        "        x = self.fc2(x)\n",
        "        #x = self.drop1d(x)\n",
        "        x = self.fc3(x)\n",
        "        #x = self.drop1d(x)\n",
        "        x = self.fc4(x)\n",
        "        return x"
      ]
    },
    {
      "cell_type": "code",
      "execution_count": 10,
      "metadata": {
        "colab": {
          "base_uri": "https://localhost:8080/"
        },
        "id": "AA56kxVRIL6P",
        "outputId": "f4864a1b-31cf-4464-b74e-423d215dc97e",
        "pycharm": {
          "name": "#%%\n"
        }
      },
      "outputs": [
        {
          "name": "stdout",
          "output_type": "stream",
          "text": [
            "initial shape 320 240\n",
            "after 1st conv 312.0 232.0\n",
            "after 2nd conv 306.0 226.0\n",
            "after 3rd conv 302.0 222.0\n",
            "after 4th conv 300.0 220.0\n",
            "after 1st pooling 60.0 44.0\n",
            "after 5th conv 56.0 40.0\n",
            "after 6th conv 54.0 38.0\n",
            "after 7th conv 52.0 36.0\n",
            "after 2nd pooling 26.0 18.0\n",
            "after 8th conv 24.0 16.0\n",
            "Size of end output 41472.0\n"
          ]
        }
      ],
      "source": [
        "# calculate outputs shape of layers\n",
        "W=320\n",
        "H=240\n",
        "print('initial shape',W,H)\n",
        "#1st conv\n",
        "W=(W-11+2*1)/1+1\n",
        "H=(H-11+2*1)/1+1\n",
        "print('after 1st conv',W,H)\n",
        "# 2st conv\n",
        "W=(W-7+2*0)/1+1\n",
        "H=(H-7+2*0)/1+1\n",
        "print('after 2nd conv',W,H)\n",
        "# 3nd conv\n",
        "W=(W-5+2*0)/1+1\n",
        "H=(H-5+2*0)/1+1\n",
        "print('after 3rd conv',W,H)\n",
        "# 4nd conv#\n",
        "W=(W-5+2*1)/1+1\n",
        "H=(H-5+2*1)/1+1\n",
        "print('after 4th conv',W,H)\n",
        "# pool5\n",
        "W=W/5\n",
        "H=H/5\n",
        "print('after 1st pooling',W,H)\n",
        "# 5nd conv\n",
        "W=(W-5+2*0)/1+1\n",
        "H=(H-5+2*0)/1+1\n",
        "print('after 5th conv',W,H)\n",
        "# 6nd conv\n",
        "W=(W-3+2*0)/1+1\n",
        "H=(H-3+2*0)/1+1\n",
        "print('after 6th conv',W,H)\n",
        "# 7nd conv\n",
        "W=(W-3+2*0)/1+1\n",
        "H=(H-3+2*0)/1+1\n",
        "print('after 7th conv',W,H)\n",
        "# pool2\n",
        "W=W/2\n",
        "H=H/2\n",
        "print('after 2nd pooling',W,H)\n",
        "# 8nd conv\n",
        "W=(W-3+2*0)/1+1\n",
        "H=(H-3+2*0)/1+1\n",
        "print('after 8th conv',W,H)\n",
        "\n",
        "number_out_channels = 108\n",
        "print('Size of end output',H*W*number_out_channels)\n"
      ]
    },
    {
      "cell_type": "code",
      "execution_count": 11,
      "metadata": {
        "colab": {
          "base_uri": "https://localhost:8080/",
          "height": 286
        },
        "id": "8J5dzrruHsBe",
        "outputId": "9296df64-69b5-4f49-f01e-3867810b649b",
        "pycharm": {
          "name": "#%%\n"
        }
      },
      "outputs": [
        {
          "name": "stdout",
          "output_type": "stream",
          "text": [
            "using: cuda\n"
          ]
        },
        {
          "name": "stderr",
          "output_type": "stream",
          "text": [
            "\u001b[34m\u001b[1mwandb\u001b[0m: Currently logged in as: \u001b[33mchrzanowski000\u001b[0m. Use \u001b[1m`wandb login --relogin`\u001b[0m to force relogin\n"
          ]
        },
        {
          "data": {
            "text/html": [
              "Tracking run with wandb version 0.13.4"
            ],
            "text/plain": [
              "<IPython.core.display.HTML object>"
            ]
          },
          "metadata": {},
          "output_type": "display_data"
        },
        {
          "data": {
            "text/html": [
              "Run data is saved locally in <code>/notebooks/wandb/run-20221026_192709-2h44jh3z</code>"
            ],
            "text/plain": [
              "<IPython.core.display.HTML object>"
            ]
          },
          "metadata": {},
          "output_type": "display_data"
        },
        {
          "data": {
            "text/html": [
              "Syncing run <strong><a href=\"https://wandb.ai/chrzanowski000/CNN_BloodCell_3/runs/2h44jh3z\" target=\"_blank\">genial-sponge-22</a></strong> to <a href=\"https://wandb.ai/chrzanowski000/CNN_BloodCell_3\" target=\"_blank\">Weights & Biases</a> (<a href=\"https://wandb.me/run\" target=\"_blank\">docs</a>)<br/>"
            ],
            "text/plain": [
              "<IPython.core.display.HTML object>"
            ]
          },
          "metadata": {},
          "output_type": "display_data"
        },
        {
          "name": "stdout",
          "output_type": "stream",
          "text": [
            "Number of trained parameters in model: 257 980 958\n"
          ]
        }
      ],
      "source": [
        "torch.cuda.empty_cache()\n",
        "# Set device\n",
        "device = torch.device(\"cuda\" if torch.cuda.is_available() else \"cpu\")\n",
        "print(f'using: {device}')\n",
        "torch.backends.cudnn.benchmark = True #let cudnn chose the most efficient way of calculating Convolutions\n",
        "\n",
        "#Connenting to wandb project to log data there\n",
        "import wandb\n",
        "#wandb.init(mode=\"disabled\")\n",
        "wandb.init(project=\"CNN_BloodCell_3\")\n",
        "\n",
        "# Initialize network\n",
        "model = CNN(in_channels=in_channels, num_classes=num_classes)\n",
        "model.to(device) \n",
        "\n",
        "# define transformations for datasets, stds and means have been calculated before with cell above on dataloaders without normalization\n",
        "transform_train = transforms.Compose([transforms.ToTensor(),\n",
        "                                      transforms.Normalize(mean_train,std_train)])\n",
        "transform_test = transforms.Compose([transforms.ToTensor(),\n",
        "                                     transforms.Normalize(mean_test, std_test)])\n",
        "\n",
        "#initialize datasets and dataloaders\n",
        "dataset_train = BloodCell_train(root=root, transform=transform_train)\n",
        "dataset_test = BloodCell_test(root=root, transform=transform_test)\n",
        "\n",
        "# set shuffle = True to randomize order\n",
        "# To avoid blocking computation code with data loading we set num_workers = 2\n",
        "# pin_memory = True will automatically put the fetched data Tensors in pinned memory, and thus enables faster data transfer to CUDA-enabled GPUs.\n",
        "train_loader = DataLoader(dataset=dataset_train, batch_size=batch_size, shuffle=True, num_workers=2, pin_memory=True)\n",
        "test_loader = DataLoader(dataset=dataset_test, batch_size=batch_size, shuffle=True, num_workers=2, pin_memory=True)\n",
        "\n",
        "# Calculate number of learnable parameters in our model\n",
        "mode_par_num = sum(p.numel() for p in model.parameters() if p.requires_grad)\n",
        "print(\"Number of trained parameters in model: \" + '{:,}'.format(mode_par_num).replace(',', ' '))"
      ]
    },
    {
      "cell_type": "code",
      "execution_count": 12,
      "metadata": {
        "id": "qBZBXfxrjtXE",
        "pycharm": {
          "name": "#%%\n"
        }
      },
      "outputs": [],
      "source": [
        "# Check accuracy on training & test to see how good our model\n",
        "def check_accuracy(loader, model):\n",
        "    num_correct = 0\n",
        "    num_samples = 0\n",
        "    model.eval()\n",
        "    # Add more metrics as F1 and F2, ACC, PREC\n",
        "    with torch.no_grad():\n",
        "        for x, y in loader:\n",
        "            x = x.to(device=device)\n",
        "            y = y.to(device=device)\n",
        "\n",
        "            scores = model(x)\n",
        "            _, predictions = scores.max(1)\n",
        "            num_correct += (predictions == y).sum()\n",
        "            num_samples += predictions.size(0)\n",
        "\n",
        "    model.train()\n",
        "    return num_correct / num_samples\n"
      ]
    },
    {
      "cell_type": "code",
      "execution_count": 13,
      "metadata": {},
      "outputs": [
        {
          "name": "stderr",
          "output_type": "stream",
          "text": [
            "  0%|          | 0/100 [00:00<?, ?it/s]"
          ]
        },
        {
          "name": "stdout",
          "output_type": "stream",
          "text": [
            "epoch nr 0\n"
          ]
        },
        {
          "name": "stderr",
          "output_type": "stream",
          "text": [
            "  1%|          | 1/100 [01:55<3:10:05, 115.21s/it]"
          ]
        },
        {
          "name": "stdout",
          "output_type": "stream",
          "text": [
            "model saved: train_acc: 46.781158447265625, test_acc: 50.34177780151367\n",
            "Accuracy on training set: 46.78\n",
            "Accuracy on test set: 50.34\n",
            "epoch nr 1\n"
          ]
        },
        {
          "name": "stderr",
          "output_type": "stream",
          "text": [
            "  2%|▏         | 2/100 [03:39<2:58:09, 109.07s/it]"
          ]
        },
        {
          "name": "stdout",
          "output_type": "stream",
          "text": [
            "Accuracy on training set: 47.18\n",
            "Accuracy on test set: 46.20\n",
            "epoch nr 2\n"
          ]
        },
        {
          "name": "stderr",
          "output_type": "stream",
          "text": [
            "  3%|▎         | 3/100 [05:31<2:58:26, 110.38s/it]"
          ]
        },
        {
          "name": "stdout",
          "output_type": "stream",
          "text": [
            "model saved: train_acc: 56.66365051269531, test_acc: 61.1178092956543\n",
            "Accuracy on training set: 56.66\n",
            "Accuracy on test set: 61.12\n",
            "epoch nr 3\n"
          ]
        },
        {
          "name": "stderr",
          "output_type": "stream",
          "text": [
            "  4%|▍         | 4/100 [07:23<2:57:27, 110.91s/it]"
          ]
        },
        {
          "name": "stdout",
          "output_type": "stream",
          "text": [
            "model saved: train_acc: 79.26081848144531, test_acc: 78.12625885009766\n",
            "Accuracy on training set: 79.26\n",
            "Accuracy on test set: 78.13\n",
            "epoch nr 4\n"
          ]
        },
        {
          "name": "stderr",
          "output_type": "stream",
          "text": [
            "  5%|▌         | 5/100 [09:13<2:54:57, 110.50s/it]"
          ]
        },
        {
          "name": "stdout",
          "output_type": "stream",
          "text": [
            "model saved: train_acc: 79.62237548828125, test_acc: 81.58423614501953\n",
            "Accuracy on training set: 79.62\n",
            "Accuracy on test set: 81.58\n",
            "epoch nr 5\n"
          ]
        },
        {
          "name": "stderr",
          "output_type": "stream",
          "text": [
            "  6%|▌         | 6/100 [10:58<2:50:02, 108.54s/it]"
          ]
        },
        {
          "name": "stdout",
          "output_type": "stream",
          "text": [
            "Accuracy on training set: 60.38\n",
            "Accuracy on test set: 69.00\n",
            "epoch nr 6\n"
          ]
        },
        {
          "name": "stderr",
          "output_type": "stream",
          "text": [
            "  7%|▋         | 7/100 [12:43<2:46:24, 107.36s/it]"
          ]
        },
        {
          "name": "stdout",
          "output_type": "stream",
          "text": [
            "Accuracy on training set: 43.03\n",
            "Accuracy on test set: 39.53\n",
            "epoch nr 7\n"
          ]
        },
        {
          "name": "stderr",
          "output_type": "stream",
          "text": [
            "  8%|▊         | 8/100 [14:28<2:43:27, 106.60s/it]"
          ]
        },
        {
          "name": "stdout",
          "output_type": "stream",
          "text": [
            "Accuracy on training set: 55.81\n",
            "Accuracy on test set: 62.97\n",
            "epoch nr 8\n"
          ]
        },
        {
          "name": "stderr",
          "output_type": "stream",
          "text": [
            "  9%|▉         | 9/100 [16:11<2:40:01, 105.51s/it]"
          ]
        },
        {
          "name": "stdout",
          "output_type": "stream",
          "text": [
            "Accuracy on training set: 39.06\n",
            "Accuracy on test set: 37.84\n",
            "epoch nr 9\n"
          ]
        },
        {
          "name": "stderr",
          "output_type": "stream",
          "text": [
            " 10%|█         | 10/100 [17:55<2:37:51, 105.24s/it]"
          ]
        },
        {
          "name": "stdout",
          "output_type": "stream",
          "text": [
            "Accuracy on training set: 77.48\n",
            "Accuracy on test set: 77.97\n",
            "epoch nr 10\n"
          ]
        },
        {
          "name": "stderr",
          "output_type": "stream",
          "text": [
            " 11%|█         | 11/100 [19:47<2:39:13, 107.34s/it]"
          ]
        },
        {
          "name": "stdout",
          "output_type": "stream",
          "text": [
            "model saved: train_acc: 88.48046875, test_acc: 87.17330169677734\n",
            "Accuracy on training set: 88.48\n",
            "Accuracy on test set: 87.17\n",
            "epoch nr 11\n"
          ]
        },
        {
          "name": "stderr",
          "output_type": "stream",
          "text": [
            " 12%|█▏        | 12/100 [21:33<2:36:33, 106.74s/it]"
          ]
        },
        {
          "name": "stdout",
          "output_type": "stream",
          "text": [
            "Accuracy on training set: 24.22\n",
            "Accuracy on test set: 24.33\n",
            "epoch nr 12\n"
          ]
        },
        {
          "name": "stderr",
          "output_type": "stream",
          "text": [
            " 13%|█▎        | 13/100 [23:16<2:33:03, 105.56s/it]"
          ]
        },
        {
          "name": "stdout",
          "output_type": "stream",
          "text": [
            "Accuracy on training set: 31.87\n",
            "Accuracy on test set: 30.92\n",
            "epoch nr 13\n"
          ]
        },
        {
          "name": "stderr",
          "output_type": "stream",
          "text": [
            " 14%|█▍        | 14/100 [25:00<2:30:56, 105.31s/it]"
          ]
        },
        {
          "name": "stdout",
          "output_type": "stream",
          "text": [
            "Accuracy on training set: 32.45\n",
            "Accuracy on test set: 32.01\n",
            "epoch nr 14\n"
          ]
        },
        {
          "name": "stderr",
          "output_type": "stream",
          "text": [
            " 15%|█▌        | 15/100 [26:59<2:34:52, 109.32s/it]"
          ]
        },
        {
          "name": "stdout",
          "output_type": "stream",
          "text": [
            "Accuracy on training set: 34.47\n",
            "Accuracy on test set: 36.23\n",
            "epoch nr 15\n"
          ]
        },
        {
          "name": "stderr",
          "output_type": "stream",
          "text": [
            " 16%|█▌        | 16/100 [28:44<2:31:07, 107.94s/it]"
          ]
        },
        {
          "name": "stdout",
          "output_type": "stream",
          "text": [
            "Accuracy on training set: 36.40\n",
            "Accuracy on test set: 32.69\n",
            "epoch nr 16\n"
          ]
        },
        {
          "name": "stderr",
          "output_type": "stream",
          "text": [
            " 17%|█▋        | 17/100 [30:27<2:27:12, 106.41s/it]"
          ]
        },
        {
          "name": "stdout",
          "output_type": "stream",
          "text": [
            "Accuracy on training set: 36.76\n",
            "Accuracy on test set: 33.45\n",
            "epoch nr 17\n"
          ]
        },
        {
          "name": "stderr",
          "output_type": "stream",
          "text": [
            " 18%|█▊        | 18/100 [32:11<2:24:46, 105.94s/it]"
          ]
        },
        {
          "name": "stdout",
          "output_type": "stream",
          "text": [
            "Accuracy on training set: 36.64\n",
            "Accuracy on test set: 33.57\n",
            "epoch nr 18\n"
          ]
        },
        {
          "name": "stderr",
          "output_type": "stream",
          "text": [
            " 19%|█▉        | 19/100 [33:56<2:22:29, 105.54s/it]"
          ]
        },
        {
          "name": "stdout",
          "output_type": "stream",
          "text": [
            "Accuracy on training set: 33.54\n",
            "Accuracy on test set: 31.44\n",
            "epoch nr 19\n"
          ]
        },
        {
          "name": "stderr",
          "output_type": "stream",
          "text": [
            " 20%|██        | 20/100 [35:41<2:20:29, 105.37s/it]"
          ]
        },
        {
          "name": "stdout",
          "output_type": "stream",
          "text": [
            "Accuracy on training set: 30.81\n",
            "Accuracy on test set: 27.62\n",
            "epoch nr 20\n"
          ]
        },
        {
          "name": "stderr",
          "output_type": "stream",
          "text": [
            " 21%|██        | 21/100 [37:24<2:17:45, 104.62s/it]"
          ]
        },
        {
          "name": "stdout",
          "output_type": "stream",
          "text": [
            "Accuracy on training set: 38.42\n",
            "Accuracy on test set: 35.34\n",
            "epoch nr 21\n"
          ]
        },
        {
          "name": "stderr",
          "output_type": "stream",
          "text": [
            " 23%|██▎       | 23/100 [40:54<2:14:27, 104.77s/it]"
          ]
        },
        {
          "name": "stdout",
          "output_type": "stream",
          "text": [
            "Accuracy on training set: 29.33\n",
            "Accuracy on test set: 26.94\n",
            "epoch nr 23\n"
          ]
        },
        {
          "ename": "",
          "evalue": "",
          "output_type": "error",
          "traceback": [
            "\u001b[1;31mFailed to connect to the remote Jupyter Server 'https://nqepfoaugy.clg07azjl.paperspacegradient.com/'. Verify the server is running and reachable."
          ]
        }
      ],
      "source": [
        "# Loss and optimizer\n",
        "criterion = nn.CrossEntropyLoss()\n",
        "optimizer = optim.Adam(model.parameters(), lr=learning_rate, weight_decay=weight_decay)\n",
        "start_time = time.time()\n",
        "# Optional\n",
        "wandb.watch(model, criterion, log=\"all\", log_freq=400)\n",
        "train_acc_best = 0\n",
        "test_acc_best = 0\n",
        "# Train Network\n",
        "\n",
        "# lines balow allow to load previously trained model\n",
        "#model.load_state_dict(torch.load('/notebooks/logs/model_26_10_2022-Copy1.pt'))\n",
        "#checkpoint = torch.load('/notebooks/logs/model_26_10_2022-Copy2.pt')\n",
        "#model.load_state_dict(checkpoint['model_state_dict'])\n",
        "#optimizer.load_state_dict(checkpoint['optimizer_state_dict'])\n",
        "\n",
        "for epoch in tqdm(range(num_epochs)):\n",
        "    print(f'epoch nr {epoch}')\n",
        "    for data, targets in train_loader:\n",
        "        # Get data to device\n",
        "        data = data.to(device=device)\n",
        "        targets = targets.to(device=device)\n",
        "\n",
        "        # forward and loss calculation\n",
        "        scores=model(data)\n",
        "        loss = criterion(scores, targets)\n",
        "        # log loss to wandb\n",
        "        wandb.log({\"loss\": loss})\n",
        "\n",
        "        # backward\n",
        "        loss.backward()\n",
        "\n",
        "        # gradient descent or adam step\n",
        "        optimizer.step()\n",
        "\n",
        "        # setting parameteres gradients to None, takes less memory than setting to '0'\n",
        "        for param in model.parameters():\n",
        "            param.grad = None\n",
        "    \n",
        "    # Calculate Accuracy and save model if test acc has increased\n",
        "    train_acc = check_accuracy(train_loader, model)*100\n",
        "    test_acc = check_accuracy(test_loader, model)*100\n",
        "    if test_acc > test_acc_best:\n",
        "        torch.save({\n",
        "            'epoch': epoch,\n",
        "            'model_state_dict': model.state_dict(),\n",
        "            'optimizer_state_dict': optimizer.state_dict(),\n",
        "            'loss': loss,\n",
        "            }, PATH)\n",
        "        test_acc_best = test_acc\n",
        "        train_acc_best = train_acc\n",
        "        print(f'model saved: train_acc: {train_acc_best}, test_acc: {test_acc_best}')\n",
        "\n",
        "    # log train_acc and test_acc to wandb\n",
        "    wandb.log({\"train_acc\": train_acc})\n",
        "    wandb.log({\"test_acc\": test_acc})\n",
        "    print(f\"Accuracy on training set: {train_acc:.2f}\")    \n",
        "    print(f\"Accuracy on test set: {test_acc:.2f}\")\n",
        "\n",
        "    #print('cached CUDA memory: ',torch.cuda.memory_cached())\n",
        "checkpoint = torch.load(PATH)\n",
        "model.load_state_dict(checkpoint['model_state_dict'])\n",
        "optimizer.load_state_dict(checkpoint['optimizer_state_dict'])\n",
        "#epoch = checkpoint['epoch']\n",
        "#loss = checkpoint['loss']\n",
        "print(\"--- %s seconds ---\" % (time.time() - start_time))\n",
        "print(f\"Highest accuracy on training set: {train_acc_best}\")\n",
        "print(f\"Highest accuracy on test set: {test_acc_best}\")"
      ]
    },
    {
      "cell_type": "code",
      "execution_count": null,
      "metadata": {},
      "outputs": [],
      "source": [
        "model.load_state_dict(torch.load('/notebooks/logs/model_26_10_2022-Copy1.pt'))\n",
        "train_acc = check_accuracy(train_loader, model)*100\n",
        "test_acc = check_accuracy(test_loader, model)*100\n",
        "print(f\"Accuracy on training set: {train_acc:.2f}\")    \n",
        "print(f\"Accuracy on test set: {test_acc:.2f}\")"
      ]
    }
  ],
  "metadata": {
    "accelerator": "GPU",
    "colab": {
      "collapsed_sections": [],
      "provenance": []
    },
    "gpuClass": "standard",
    "kernelspec": {
      "display_name": "Python 3 (ipykernel)",
      "language": "python",
      "name": "python3"
    },
    "language_info": {
      "codemirror_mode": {
        "name": "ipython",
        "version": 3
      },
      "file_extension": ".py",
      "mimetype": "text/x-python",
      "name": "python",
      "nbconvert_exporter": "python",
      "pygments_lexer": "ipython3",
      "version": "3.9.13"
    },
    "vscode": {
      "interpreter": {
        "hash": "31f2aee4e71d21fbe5cf8b01ff0e069b9275f58929596ceb00d14d90e3e16cd6"
      }
    }
  },
  "nbformat": 4,
  "nbformat_minor": 0
}
