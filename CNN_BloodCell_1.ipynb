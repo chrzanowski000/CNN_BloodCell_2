{
  "cells": [
    {
      "cell_type": "markdown",
      "metadata": {
        "collapsed": false,
        "id": "bbyayKmx5UkU",
        "pycharm": {
          "name": "#%% md\n"
        }
      },
      "source": [
        "Whole notebook has been run on Google colab pro,\n",
        "\n",
        "created by: Michał Chrzanowski 2022\n",
        "\n",
        "important note, if model stucks around 25% accuracy restart whole model and calculate again"
      ]
    },
    {
      "cell_type": "code",
      "execution_count": 15,
      "metadata": {
        "id": "ETIz7k-CqFE0",
        "pycharm": {
          "name": "#%%\n"
        }
      },
      "outputs": [],
      "source": [
        "#modules not used in this notebook but may come in handy later\n",
        "\n",
        "# image processing of images\n",
        "from skimage.color import rgb2hsv, hsv2rgb\n",
        "def color_isolate(img):\n",
        "    img = cv2.cvtColor(img, cv2.COLOR_BGR2HSV)\n",
        "    img_hsv = rgb2hsv(img[:,:,:3])   \n",
        "    #MASK\n",
        "    mask_1 = img_hsv [:,:,0] > 200/360\n",
        "    mask_2 = img_hsv [:,:,0] < 280/360\n",
        "    saturation_1 = img_hsv [:,:,1] > 0.35\n",
        "    saturation_2 = img_hsv [:,:,1] < 0.70\n",
        "    \n",
        "    mask= mask_1*mask_1*saturation_1*saturation_2\n",
        "\n",
        "    image_filtered = np.dstack((img[:,:,0]*mask,\n",
        "                                img[:,:,1]*mask,\n",
        "                                img[:,:,2]*mask))\n",
        "\n",
        "    return image_filtered\n",
        "\n",
        "#used to preview images loaded in model\n",
        "def imshow(img):\n",
        "    npimg = img.numpy()[0]\n",
        "    plt.imshow(np.transpose(npimg, (1, 2, 0)), interpolation='nearest')"
      ]
    },
    {
      "cell_type": "code",
      "execution_count": 17,
      "metadata": {
        "colab": {
          "base_uri": "https://localhost:8080/"
        },
        "id": "vTucYHtcAzU6",
        "outputId": "35553a2c-0d8e-49db-e6a2-6ca1a8038775",
        "pycharm": {
          "name": "#%%\n"
        }
      },
      "outputs": [
        {
          "name": "stdout",
          "output_type": "stream",
          "text": [
            "No LSB modules are available.\n",
            "Distributor ID:\tUbuntu\n",
            "Description:\tUbuntu 18.04.6 LTS\n",
            "Release:\t18.04\n",
            "Codename:\tbionic\n",
            "processor\t: 0\n",
            "vendor_id\t: GenuineIntel\n",
            "cpu family\t: 6\n",
            "model\t\t: 85\n",
            "model name\t: Intel(R) Xeon(R) CPU @ 2.00GHz\n",
            "stepping\t: 3\n",
            "microcode\t: 0x1\n",
            "cpu MHz\t\t: 2000.126\n",
            "cache size\t: 39424 KB\n",
            "physical id\t: 0\n",
            "siblings\t: 2\n",
            "core id\t\t: 0\n",
            "cpu cores\t: 1\n",
            "apicid\t\t: 0\n",
            "initial apicid\t: 0\n",
            "fpu\t\t: yes\n",
            "fpu_exception\t: yes\n",
            "cpuid level\t: 13\n",
            "wp\t\t: yes\n",
            "flags\t\t: fpu vme de pse tsc msr pae mce cx8 apic sep mtrr pge mca cmov pat pse36 clflush mmx fxsr sse sse2 ss ht syscall nx pdpe1gb rdtscp lm constant_tsc rep_good nopl xtopology nonstop_tsc cpuid tsc_known_freq pni pclmulqdq ssse3 fma cx16 pcid sse4_1 sse4_2 x2apic movbe popcnt aes xsave avx f16c rdrand hypervisor lahf_lm abm 3dnowprefetch invpcid_single ssbd ibrs ibpb stibp fsgsbase tsc_adjust bmi1 hle avx2 smep bmi2 erms invpcid rtm mpx avx512f avx512dq rdseed adx smap clflushopt clwb avx512cd avx512bw avx512vl xsaveopt xsavec xgetbv1 xsaves arat md_clear arch_capabilities\n",
            "bugs\t\t: cpu_meltdown spectre_v1 spectre_v2 spec_store_bypass l1tf mds swapgs taa mmio_stale_data retbleed\n",
            "bogomips\t: 4000.25\n",
            "clflush size\t: 64\n",
            "cache_alignment\t: 64\n",
            "address sizes\t: 46 bits physical, 48 bits virtual\n",
            "power management:\n",
            "\n",
            "processor\t: 1\n",
            "vendor_id\t: GenuineIntel\n",
            "cpu family\t: 6\n",
            "model\t\t: 85\n",
            "model name\t: Intel(R) Xeon(R) CPU @ 2.00GHz\n",
            "stepping\t: 3\n",
            "microcode\t: 0x1\n",
            "cpu MHz\t\t: 2000.126\n",
            "cache size\t: 39424 KB\n",
            "physical id\t: 0\n",
            "siblings\t: 2\n",
            "core id\t\t: 0\n",
            "cpu cores\t: 1\n",
            "apicid\t\t: 1\n",
            "initial apicid\t: 1\n",
            "fpu\t\t: yes\n",
            "fpu_exception\t: yes\n",
            "cpuid level\t: 13\n",
            "wp\t\t: yes\n",
            "flags\t\t: fpu vme de pse tsc msr pae mce cx8 apic sep mtrr pge mca cmov pat pse36 clflush mmx fxsr sse sse2 ss ht syscall nx pdpe1gb rdtscp lm constant_tsc rep_good nopl xtopology nonstop_tsc cpuid tsc_known_freq pni pclmulqdq ssse3 fma cx16 pcid sse4_1 sse4_2 x2apic movbe popcnt aes xsave avx f16c rdrand hypervisor lahf_lm abm 3dnowprefetch invpcid_single ssbd ibrs ibpb stibp fsgsbase tsc_adjust bmi1 hle avx2 smep bmi2 erms invpcid rtm mpx avx512f avx512dq rdseed adx smap clflushopt clwb avx512cd avx512bw avx512vl xsaveopt xsavec xgetbv1 xsaves arat md_clear arch_capabilities\n",
            "bugs\t\t: cpu_meltdown spectre_v1 spectre_v2 spec_store_bypass l1tf mds swapgs taa mmio_stale_data retbleed\n",
            "bogomips\t: 4000.25\n",
            "clflush size\t: 64\n",
            "cache_alignment\t: 64\n",
            "address sizes\t: 46 bits physical, 48 bits virtual\n",
            "power management:\n",
            "\n",
            "Filesystem      Size  Used Avail Use% Mounted on\n",
            "overlay         167G   39G  129G  23% /\n",
            "tmpfs            64M     0   64M   0% /dev\n",
            "shm             5.7G   40K  5.7G   1% /dev/shm\n",
            "/dev/root       2.0G  1.1G  910M  54% /sbin/docker-init\n",
            "tmpfs           6.4G   40K  6.4G   1% /var/colab\n",
            "/dev/sda1       174G   40G  134G  23% /opt/bin/.nvidia\n",
            "tmpfs           6.4G     0  6.4G   0% /proc/acpi\n",
            "tmpfs           6.4G     0  6.4G   0% /proc/scsi\n",
            "tmpfs           6.4G     0  6.4G   0% /sys/firmware\n",
            "drive            15G  2.9G   13G  19% /content/drive\n",
            "MemTotal:       13297228 kB\n",
            "MemFree:         4615372 kB\n",
            "MemAvailable:    9664084 kB\n",
            "Buffers:          182932 kB\n",
            "Cached:          3990228 kB\n",
            "SwapCached:            0 kB\n",
            "Active:          1953052 kB\n",
            "Inactive:        6091196 kB\n",
            "Active(anon):        980 kB\n",
            "Inactive(anon):  2988796 kB\n",
            "Active(file):    1952072 kB\n",
            "Inactive(file):  3102400 kB\n",
            "Unevictable:           0 kB\n",
            "Mlocked:               0 kB\n",
            "SwapTotal:             0 kB\n",
            "SwapFree:              0 kB\n",
            "Dirty:              1040 kB\n",
            "Writeback:             0 kB\n",
            "AnonPages:       3871024 kB\n",
            "Mapped:          1170480 kB\n",
            "Shmem:            179504 kB\n",
            "KReclaimable:     320164 kB\n",
            "Slab:             397204 kB\n",
            "SReclaimable:     320164 kB\n",
            "SUnreclaim:        77040 kB\n",
            "KernelStack:       22320 kB\n",
            "PageTables:        29080 kB\n",
            "NFS_Unstable:          0 kB\n",
            "Bounce:                0 kB\n",
            "WritebackTmp:          0 kB\n",
            "CommitLimit:     6648612 kB\n",
            "Committed_AS:    7675900 kB\n",
            "VmallocTotal:   34359738367 kB\n",
            "VmallocUsed:       70892 kB\n",
            "VmallocChunk:          0 kB\n",
            "Percpu:             1416 kB\n",
            "HardwareCorrupted:     0 kB\n",
            "AnonHugePages:         0 kB\n",
            "ShmemHugePages:        0 kB\n",
            "ShmemPmdMapped:        0 kB\n",
            "FileHugePages:         0 kB\n",
            "FilePmdMapped:         0 kB\n",
            "CmaTotal:              0 kB\n",
            "CmaFree:               0 kB\n",
            "HugePages_Total:       0\n",
            "HugePages_Free:        0\n",
            "HugePages_Rsvd:        0\n",
            "HugePages_Surp:        0\n",
            "Hugepagesize:       2048 kB\n",
            "Hugetlb:               0 kB\n",
            "DirectMap4k:      453440 kB\n",
            "DirectMap2M:    13174784 kB\n",
            "DirectMap1G:     2097152 kB\n",
            "Reading package lists... Done\n",
            "Building dependency tree       \n",
            "Reading state information... Done\n",
            "speedtest-cli is already the newest version (2.0.0-1ubuntu1).\n",
            "The following package was automatically installed and is no longer required:\n",
            "  libnvidia-common-460\n",
            "Use 'sudo apt autoremove' to remove it.\n",
            "0 upgraded, 0 newly installed, 0 to remove and 20 not upgraded.\n",
            "Retrieving speedtest.net configuration...\n",
            "Cannot retrieve speedtest configuration\n",
            "ERROR: HTTP Error 403: Forbidden\n"
          ]
        }
      ],
      "source": [
        "!lsb_release -a #Linux info\n",
        "!cat /proc/cpuinfo # CPU info\n",
        "!df -h #disc info\n",
        "!cat /proc/meminfo #RAM info\n",
        "!sudo apt install speedtest-cli #library for speedtesting\n",
        "!speedtest-cli # network speed test"
      ]
    },
    {
      "cell_type": "code",
      "execution_count": 1,
      "metadata": {
        "colab": {
          "base_uri": "https://localhost:8080/"
        },
        "id": "ZkAHGr3iBN8t",
        "outputId": "efc3590c-0023-4cfa-940c-45feaff69ba1",
        "pycharm": {
          "name": "#%%\n"
        }
      },
      "outputs": [
        {
          "name": "stdout",
          "output_type": "stream",
          "text": [
            "Sun Oct 23 15:28:42 2022       \n",
            "+-----------------------------------------------------------------------------+\n",
            "| NVIDIA-SMI 510.73.05    Driver Version: 510.73.05    CUDA Version: 11.6     |\n",
            "|-------------------------------+----------------------+----------------------+\n",
            "| GPU  Name        Persistence-M| Bus-Id        Disp.A | Volatile Uncorr. ECC |\n",
            "| Fan  Temp  Perf  Pwr:Usage/Cap|         Memory-Usage | GPU-Util  Compute M. |\n",
            "|                               |                      |               MIG M. |\n",
            "|===============================+======================+======================|\n",
            "|   0  NVIDIA RTX A4000    Off  | 00000000:00:05.0 Off |                  Off |\n",
            "| 41%   48C    P8    17W / 140W |      0MiB / 16376MiB |      0%      Default |\n",
            "|                               |                      |                  N/A |\n",
            "+-------------------------------+----------------------+----------------------+\n",
            "                                                                               \n",
            "+-----------------------------------------------------------------------------+\n",
            "| Processes:                                                                  |\n",
            "|  GPU   GI   CI        PID   Type   Process name                  GPU Memory |\n",
            "|        ID   ID                                                   Usage      |\n",
            "|=============================================================================|\n",
            "|  No running processes found                                                 |\n",
            "+-----------------------------------------------------------------------------+\n"
          ]
        }
      ],
      "source": [
        "!nvidia-smi #GPU info"
      ]
    },
    {
      "cell_type": "code",
      "execution_count": 4,
      "metadata": {
        "colab": {
          "base_uri": "https://localhost:8080/"
        },
        "id": "g0x0-BEFBYx8",
        "outputId": "a52bc908-3d89-4e21-b39f-63c33d700ce6",
        "pycharm": {
          "is_executing": true,
          "name": "#%%\n"
        }
      },
      "outputs": [
        {
          "name": "stdout",
          "output_type": "stream",
          "text": [
            "Collecting wandb\n",
            "  Downloading wandb-0.13.4-py2.py3-none-any.whl (1.9 MB)\n",
            "\u001b[2K     \u001b[90m━━━━━━━━━━━━━━━━━━━━━━━━━━━━━━━━━━━━━━━━\u001b[0m \u001b[32m1.9/1.9 MB\u001b[0m \u001b[31m69.0 MB/s\u001b[0m eta \u001b[36m0:00:00\u001b[0m\n",
            "\u001b[?25hCollecting pathtools\n",
            "  Downloading pathtools-0.1.2.tar.gz (11 kB)\n",
            "  Preparing metadata (setup.py) ... \u001b[?25ldone\n",
            "\u001b[?25hCollecting sentry-sdk>=1.0.0\n",
            "  Downloading sentry_sdk-1.10.1-py2.py3-none-any.whl (166 kB)\n",
            "\u001b[2K     \u001b[90m━━━━━━━━━━━━━━━━━━━━━━━━━━━━━━━━━━━━━━\u001b[0m \u001b[32m166.6/166.6 kB\u001b[0m \u001b[31m40.1 MB/s\u001b[0m eta \u001b[36m0:00:00\u001b[0m\n",
            "\u001b[?25hRequirement already satisfied: psutil>=5.0.0 in /usr/local/lib/python3.9/dist-packages (from wandb) (5.9.1)\n",
            "Collecting promise<3,>=2.0\n",
            "  Downloading promise-2.3.tar.gz (19 kB)\n",
            "  Preparing metadata (setup.py) ... \u001b[?25ldone\n",
            "\u001b[?25hRequirement already satisfied: Click!=8.0.0,>=7.0 in /usr/local/lib/python3.9/dist-packages (from wandb) (8.1.3)\n",
            "Requirement already satisfied: GitPython>=1.0.0 in /usr/local/lib/python3.9/dist-packages (from wandb) (3.1.27)\n",
            "Collecting shortuuid>=0.5.0\n",
            "  Downloading shortuuid-1.0.9-py3-none-any.whl (9.4 kB)\n",
            "Requirement already satisfied: requests<3,>=2.0.0 in /usr/local/lib/python3.9/dist-packages (from wandb) (2.28.1)\n",
            "Requirement already satisfied: PyYAML in /usr/local/lib/python3.9/dist-packages (from wandb) (5.4.1)\n",
            "Requirement already satisfied: six>=1.13.0 in /usr/lib/python3/dist-packages (from wandb) (1.14.0)\n",
            "Collecting docker-pycreds>=0.4.0\n",
            "  Downloading docker_pycreds-0.4.0-py2.py3-none-any.whl (9.0 kB)\n",
            "Collecting setproctitle\n",
            "  Downloading setproctitle-1.3.2-cp39-cp39-manylinux_2_5_x86_64.manylinux1_x86_64.manylinux_2_17_x86_64.manylinux2014_x86_64.whl (30 kB)\n",
            "Requirement already satisfied: protobuf!=4.0.*,!=4.21.0,<5,>=3.12.0 in /usr/local/lib/python3.9/dist-packages (from wandb) (3.19.4)\n",
            "Requirement already satisfied: setuptools in /usr/local/lib/python3.9/dist-packages (from wandb) (63.1.0)\n",
            "Requirement already satisfied: gitdb<5,>=4.0.1 in /usr/local/lib/python3.9/dist-packages (from GitPython>=1.0.0->wandb) (4.0.9)\n",
            "Requirement already satisfied: certifi>=2017.4.17 in /usr/lib/python3/dist-packages (from requests<3,>=2.0.0->wandb) (2019.11.28)\n",
            "Requirement already satisfied: charset-normalizer<3,>=2 in /usr/local/lib/python3.9/dist-packages (from requests<3,>=2.0.0->wandb) (2.1.0)\n",
            "Requirement already satisfied: urllib3<1.27,>=1.21.1 in /usr/local/lib/python3.9/dist-packages (from requests<3,>=2.0.0->wandb) (1.26.10)\n",
            "Requirement already satisfied: idna<4,>=2.5 in /usr/lib/python3/dist-packages (from requests<3,>=2.0.0->wandb) (2.8)\n",
            "Collecting urllib3<1.27,>=1.21.1\n",
            "  Downloading urllib3-1.26.12-py2.py3-none-any.whl (140 kB)\n",
            "\u001b[2K     \u001b[90m━━━━━━━━━━━━━━━━━━━━━━━━━━━━━━━━━━━━━━\u001b[0m \u001b[32m140.4/140.4 kB\u001b[0m \u001b[31m38.6 MB/s\u001b[0m eta \u001b[36m0:00:00\u001b[0m\n",
            "\u001b[?25hRequirement already satisfied: smmap<6,>=3.0.1 in /usr/local/lib/python3.9/dist-packages (from gitdb<5,>=4.0.1->GitPython>=1.0.0->wandb) (5.0.0)\n",
            "Building wheels for collected packages: promise, pathtools\n",
            "  Building wheel for promise (setup.py) ... \u001b[?25ldone\n",
            "\u001b[?25h  Created wheel for promise: filename=promise-2.3-py3-none-any.whl size=21486 sha256=1757d5dde3687902747b57f2122e818bbccd0b7100b9d37592fbf2f627afe038\n",
            "  Stored in directory: /root/.cache/pip/wheels/e1/e8/83/ddea66100678d139b14bc87692ece57c6a2a937956d2532608\n",
            "  Building wheel for pathtools (setup.py) ... \u001b[?25ldone\n",
            "\u001b[?25h  Created wheel for pathtools: filename=pathtools-0.1.2-py3-none-any.whl size=8791 sha256=a03b9b3479d8411a25c84ddc88d623b2b411b2f0d96334a30fa35e140a8f6454\n",
            "  Stored in directory: /root/.cache/pip/wheels/b7/0a/67/ada2a22079218c75a88361c0782855cc72aebc4d18d0289d05\n",
            "Successfully built promise pathtools\n",
            "Installing collected packages: pathtools, urllib3, shortuuid, setproctitle, promise, docker-pycreds, sentry-sdk, wandb\n",
            "  Attempting uninstall: urllib3\n",
            "    Found existing installation: urllib3 1.26.10\n",
            "    Uninstalling urllib3-1.26.10:\n",
            "      Successfully uninstalled urllib3-1.26.10\n",
            "Successfully installed docker-pycreds-0.4.0 pathtools-0.1.2 promise-2.3 sentry-sdk-1.10.1 setproctitle-1.3.2 shortuuid-1.0.9 urllib3-1.26.12 wandb-0.13.4\n",
            "\u001b[33mWARNING: Running pip as the 'root' user can result in broken permissions and conflicting behaviour with the system package manager. It is recommended to use a virtual environment instead: https://pip.pypa.io/warnings/venv\u001b[0m\u001b[33m\n",
            "\u001b[0m\u001b[34m\u001b[1mwandb\u001b[0m: Appending key for api.wandb.ai to your netrc file: /root/.netrc\n"
          ]
        }
      ],
      "source": [
        "# I decided to use external plotting service Weights and biases. It provides easy live preview of model state and  allows convenient runs comparasion\n",
        "!pip install wandb\n",
        "!wandb login 33cccacf373072ab6a5edc82d4770dddf40d42fb\n",
        "import wandb"
      ]
    },
    {
      "cell_type": "code",
      "execution_count": 25,
      "metadata": {
        "colab": {
          "base_uri": "https://localhost:8080/"
        },
        "id": "NGTvVH2x63y2",
        "outputId": "2e1cb934-7c9c-4ba8-aa29-a07291d6a96f",
        "pycharm": {
          "name": "#%%\n"
        }
      },
      "outputs": [
        {
          "name": "stdout",
          "output_type": "stream",
          "text": [
            "allocated CUDA memory:  5166639616\n",
            "cached CUDA memory:  5446303744\n"
          ]
        },
        {
          "name": "stderr",
          "output_type": "stream",
          "text": [
            "/usr/local/lib/python3.9/dist-packages/torch/cuda/memory.py:391: FutureWarning: torch.cuda.memory_cached has been renamed to torch.cuda.memory_reserved\n",
            "  warnings.warn(\n"
          ]
        }
      ],
      "source": [
        "# Imports\n",
        "import time\n",
        "import torch\n",
        "import torchvision  # torch package for vision related things\n",
        "import torch.nn.functional as F  # Parameterless functions, like (some) activation functions\n",
        "import torchvision.transforms as transforms  # Transformations and augmentations\n",
        "from torch import optim  # For optimizers\n",
        "from torch import nn  # All neural network modules\n",
        "from torch.utils.data import DataLoader #Dataloader module\n",
        "from torch.utils.data import Dataset # Dataset module\n",
        "import torchvision.transforms as transforms\n",
        "import torchvision.utils as vutils # for presentation of images in a grid\n",
        "from tqdm import tqdm #nice progress bar\n",
        "import pandas as pd\n",
        "import numpy as np\n",
        "from skimage.io import imshow, imread\n",
        "import matplotlib.pyplot as plt\n",
        "\n",
        "# Libraries for dataloader\n",
        "from os import listdir\n",
        "from os.path import isfile, join\n",
        "from PIL import Image\n",
        "import cv2\n",
        "#Checking whether GPU RAM is empty\n",
        "print('allocated CUDA memory: ',torch.cuda.memory_allocated())\n",
        "print('cached CUDA memory: ',torch.cuda.memory_cached())"
      ]
    },
    {
      "cell_type": "code",
      "execution_count": 26,
      "metadata": {},
      "outputs": [],
      "source": [
        "## Hyper-parameters\n",
        "root = '/notebooks/dataset2-master/dataset2-master/images'\n",
        "in_channels = 3\n",
        "num_classes = 4\n",
        "learning_rate = 3e-4\n",
        "batch_size = 32\n",
        "num_epochs = 100\n",
        "weight_decay = 0.001"
      ]
    },
    {
      "cell_type": "code",
      "execution_count": 3,
      "metadata": {},
      "outputs": [
        {
          "name": "stdout",
          "output_type": "stream",
          "text": [
            "DONE\n"
          ]
        }
      ],
      "source": [
        "from PIL import Image\n",
        "import os,time\n",
        "import cv2\n",
        "\n",
        "#img_dir='/notebooks/DATA'\n",
        "def verify_folder(folder_dir):\n",
        "    \n",
        "    def verify_image(img_file):\n",
        "         #test image\n",
        "         try:\n",
        "            v_image = Image.open(img_file)\n",
        "            v_image.verify()\n",
        "            return True;\n",
        "            #is valid\n",
        "            #print(\"valid file: \"+img_file)\n",
        "         except OSError:\n",
        "            return False;\n",
        "\n",
        "    for root, dirs, files in os.walk(folder_dir):\n",
        "        for file in files:\n",
        "            if file.endswith(\".jpg\") or file.endswith(\".jpeg\") or file.endswith(\".png\"):\n",
        "                currentFile=os.path.join(root, file)\n",
        "                #print(currentFile)\n",
        "                #test image\n",
        "                if verify_image(currentFile):\n",
        "                    im = cv2.imread(currentFile)\n",
        "                    if im.shape[0] < 64 or im.shape[1] < 64:\n",
        "                        print('undersized file')\n",
        "                        os.remove(currentFile)\n",
        "                else:\n",
        "                    os.remove(currentFile)\n",
        "                    print(\"corrupt file\")\n",
        "                    \n",
        "            else:\n",
        "                os.remove(os.path.join(root, file))\n",
        "                print(\"unsupported file extension\")\n",
        "    print('DONE')\n",
        "                    \n",
        "verify_folder('/notebooks/dataset2-master/dataset2-master/images')"
      ]
    },
    {
      "cell_type": "code",
      "execution_count": 27,
      "metadata": {
        "id": "MEoHkZFK7f_b",
        "pycharm": {
          "name": "#%%\n"
        }
      },
      "outputs": [],
      "source": [
        "# DATALOADERS\n",
        "\n",
        "# Train Loader\n",
        "class BloodCell_train(Dataset):\n",
        "    def __init__(self, root ,transform):\n",
        "        self.labels = []\n",
        "        self.dirName_1 = join(root,'TRAIN/EOSINOPHIL') # path to training data with EOSINOPHILS cells\n",
        "        self.dirName_2 = join(root,'TRAIN/LYMPHOCYTE') # path to training data with LYMPHOCYTES cells\n",
        "        self.dirName_3 = join(root,'TRAIN/MONOCYTE') # path to training data with MONOCYTES cells\n",
        "        self.dirName_4 = join(root,'TRAIN/NEUTROPHIL') # path to training data with NEUTROPHILS cells\n",
        "        self.files_names = []\n",
        "        self.transform = transform\n",
        "        self.load_images()\n",
        "    \n",
        "\n",
        "    def load_images(self):\n",
        "\n",
        "        # create list of paths to images\n",
        "        files_1 = [join(self.dirName_1, f) for f in listdir(self.dirName_1) if isfile(join(self.dirName_1, f))]\n",
        "        files_2 = [join(self.dirName_2, f) for f in listdir(self.dirName_2) if isfile(join(self.dirName_2, f))]\n",
        "        files_3 = [join(self.dirName_3, f) for f in listdir(self.dirName_3) if isfile(join(self.dirName_3, f))]\n",
        "        files_4 = [join(self.dirName_4, f) for f in listdir(self.dirName_4) if isfile(join(self.dirName_4, f))]\n",
        "        \n",
        "\n",
        "        # connect lists of different cells in one big list\n",
        "        self.files_names = files_1 + files_2 + files_3 + files_4\n",
        "\n",
        "        # creating label list\n",
        "        for file_name in tqdm(files_1):\n",
        "            self.labels.append(0)\n",
        "\n",
        "        for file_name in tqdm(files_2):\n",
        "            self.labels.append(1)\n",
        "\n",
        "        for file_name in tqdm(files_3):\n",
        "            self.labels.append(2)\n",
        "\n",
        "        for file_name in tqdm(files_4):\n",
        "            self.labels.append(3)\n",
        "\n",
        "        del files_1\n",
        "        del files_2\n",
        "        del files_3\n",
        "        del files_4\n",
        "\n",
        "    def __len__(self):\n",
        "        return len(self.labels)\n",
        "\n",
        "    def __getitem__(self, index):\n",
        "        image=cv2.imread(self.files_names[index])\n",
        "        #image = color_isolate(image.astype(np.float32))\n",
        "        y_label = self.labels[index]\n",
        "\n",
        "        if self.transform:\n",
        "            image = self.transform(image)\n",
        "\n",
        "        return (image, y_label)\n",
        "\n",
        "# Test Loader\n",
        "class BloodCell_test(Dataset):\n",
        "    def __init__(self, root,transform):\n",
        "        self.labels = []\n",
        "        self.dirName_1 = join(root,'TEST/EOSINOPHIL') # path to test data with EOSINOPHILS cells\n",
        "        self.dirName_2 = join(root,'TEST/LYMPHOCYTE') # path to test data with LYMPHOCYTES cells\n",
        "        self.dirName_3 = join(root,'TEST/MONOCYTE') # path to test data with MONOCYTES cells\n",
        "        self.dirName_4 = join(root,'TEST/NEUTROPHIL') # path to test data with NEUTROPHILS cellsself.files_names = []\n",
        "        self.files_names = []\n",
        "        self.transform = transform\n",
        "        self.load_images()\n",
        "        \n",
        "\n",
        "    def load_images(self):\n",
        "\n",
        "        # create list of paths to images\n",
        "        files_1 = [join(self.dirName_1, f) for f in listdir(self.dirName_1) if isfile(join(self.dirName_1, f))]\n",
        "        files_2 = [join(self.dirName_2, f) for f in listdir(self.dirName_2) if isfile(join(self.dirName_2, f))]\n",
        "        files_3 = [join(self.dirName_3, f) for f in listdir(self.dirName_3) if isfile(join(self.dirName_3, f))]\n",
        "        files_4 = [join(self.dirName_4, f) for f in listdir(self.dirName_4) if isfile(join(self.dirName_4, f))]\n",
        "        \n",
        "        # connect lists of different cells in one big list\n",
        "        self.files_names = files_1 + files_2 + files_3 + files_4\n",
        "\n",
        "        # creating label list\n",
        "        for file_name in tqdm(files_1):\n",
        "            self.labels.append(0)\n",
        "\n",
        "        for file_name in tqdm(files_2):\n",
        "            self.labels.append(1)\n",
        "\n",
        "        for file_name in tqdm(files_3):\n",
        "            self.labels.append(2)\n",
        "\n",
        "        for file_name in tqdm(files_4):\n",
        "            self.labels.append(3)\n",
        "\n",
        "        del files_1\n",
        "        del files_2\n",
        "        del files_3\n",
        "        del files_4\n",
        "        \n",
        "    def __len__(self):\n",
        "        return len(self.labels)\n",
        "\n",
        "    def __getitem__(self, index):\n",
        "        image=cv2.imread(self.files_names[index])\n",
        "        #image = color_isolate(image.astype(np.float32))\n",
        "        y_label = self.labels[index]\n",
        "\n",
        "        if self.transform:\n",
        "            image = self.transform(image)\n",
        "\n",
        "        return (image, y_label)\n"
      ]
    },
    {
      "cell_type": "code",
      "execution_count": 32,
      "metadata": {
        "id": "J9W5bQwo5UlD",
        "pycharm": {
          "name": "#%%\n"
        }
      },
      "outputs": [
        {
          "name": "stderr",
          "output_type": "stream",
          "text": [
            "100%|██████████| 2497/2497 [00:00<00:00, 641699.47it/s]\n",
            "100%|██████████| 2483/2483 [00:00<00:00, 678510.45it/s]\n",
            "100%|██████████| 2478/2478 [00:00<00:00, 696334.27it/s]\n",
            "100%|██████████| 2499/2499 [00:00<00:00, 681594.86it/s]\n",
            "100%|██████████| 623/623 [00:00<00:00, 517640.93it/s]\n",
            "100%|██████████| 620/620 [00:00<00:00, 542668.71it/s]\n",
            "100%|██████████| 620/620 [00:00<00:00, 548622.04it/s]\n",
            "100%|██████████| 624/624 [00:00<00:00, 550072.66it/s]\n",
            " 34%|███▍      | 3373/9957 [00:04<00:10, 635.78it/s]"
          ]
        }
      ],
      "source": [
        "# for calcualting mean and std od dataset\n",
        "def get_mean_and_std(dataset):\n",
        "    channels_sum, channels_squared_sum, num_batches = 0, 0, 0\n",
        "    for data, _ in tqdm(dataset):\n",
        "        # Mean over batch, height and width, but not over the channels\n",
        "        channels_sum += torch.mean(data, dim=[1,2])\n",
        "        channels_squared_sum += torch.mean(data**2, dim=[1,2])\n",
        "        num_batches += 1\n",
        "\n",
        "    mean = channels_sum / num_batches\n",
        "\n",
        "    # std = sqrt(E[X^2] - (E[X])^2)\n",
        "    std = (channels_squared_sum / num_batches - mean ** 2) ** 0.5\n",
        "\n",
        "    return mean, std\n",
        "\n",
        "Norm_transform = transforms.Compose([transforms.ToTensor()])\n",
        "Norm_dataset_train = BloodCell_train(root=root,transform=Norm_transform)\n",
        "Norm_dataset_test = BloodCell_test(root=root,transform=Norm_transform)\n",
        "\n",
        "mean_train, std_train = get_mean_and_std(Norm_dataset_train)\n",
        "mean_test, std_test = get_mean_and_std(Norm_dataset_test)\n",
        "\n",
        "Norm_dataloader_train = torch.utils.data.DataLoader(dataset=Norm_dataset_train, batch_size=64, shuffle=True, num_workers=2)\n",
        "Norm_loaded_images=next(iter(Norm_dataloader_train))[0]\n",
        "loaded_images_array = np.transpose(vutils.make_grid(Norm_loaded_images, padding=2, normalize=True).cpu().detach().numpy(),(1,2,0))\n",
        "plt.imshow(loaded_images_array)\n",
        "\n",
        "del Norm_dataloader_train, Norm_dataset_train, Norm_dataset_test\n",
        "print(f'TRAIN dataset ,mean: {mean_train.tolist()}, std: {std_train.tolist()}')\n",
        "print(f'TEST dataset ,mean: {mean_test.tolist()}, std: {std_test.tolist()}')"
      ]
    },
    {
      "cell_type": "code",
      "execution_count": 7,
      "metadata": {
        "id": "MrgL0wmx5Uk6",
        "pycharm": {
          "name": "#%%\n"
        }
      },
      "outputs": [],
      "source": [
        "# model creation\n",
        "class CNN(nn.Module):\n",
        "    def __init__(self, in_channels, num_classes):\n",
        "        super(CNN, self).__init__()\n",
        "        self.conv1 = nn.Conv2d(\n",
        "            in_channels=in_channels,\n",
        "            out_channels=9,\n",
        "            kernel_size=(11, 11),\n",
        "            stride=(1, 1),\n",
        "            padding=(1,1),\n",
        "        )\n",
        "        self.conv2 = nn.Conv2d(\n",
        "            in_channels=9,\n",
        "            out_channels=27,\n",
        "            kernel_size=(7, 7),\n",
        "            stride=(1, 1),\n",
        "            padding=(0,0),\n",
        "        )\n",
        "        self.conv3 = nn.Conv2d(\n",
        "            in_channels=27,\n",
        "            out_channels=54,\n",
        "            kernel_size=(5, 5),\n",
        "            stride=(1, 1),\n",
        "            padding=(0,0),\n",
        "        )\n",
        "        self.conv4 = nn.Conv2d(\n",
        "            in_channels=54,\n",
        "            out_channels=54,\n",
        "            kernel_size=(5, 5),\n",
        "            stride=(1, 1),\n",
        "            padding=(1,1),\n",
        "        )\n",
        "        self.conv5 = nn.Conv2d(\n",
        "            in_channels=54,\n",
        "            out_channels=108,\n",
        "            kernel_size=(5, 5),\n",
        "            stride=(1, 1),\n",
        "            padding=(0,0),\n",
        "        )\n",
        "        self.conv6 = nn.Conv2d(\n",
        "            in_channels=108,\n",
        "            out_channels=108,\n",
        "            kernel_size=(3, 3),\n",
        "            stride=(1, 1),\n",
        "            padding=(0,0),\n",
        "        )\n",
        "        self.conv7 = nn.Conv2d(\n",
        "            in_channels=108,\n",
        "            out_channels=108,\n",
        "            kernel_size=(3, 3),\n",
        "            stride=(1, 1),\n",
        "            padding=(0,0),\n",
        "        )\n",
        "        self.conv8 = nn.Conv2d(\n",
        "            in_channels=108,\n",
        "            out_channels=108,\n",
        "            kernel_size=(3, 3),\n",
        "            stride=(1, 1),\n",
        "            padding=(0,0),\n",
        "        )\n",
        "\n",
        "        self.pool5 = nn.MaxPool2d(kernel_size=(5, 5), stride=(5, 5))\n",
        "        self.pool2 = nn.MaxPool2d(kernel_size=(2, 2), stride=(2, 2))\n",
        "        self.drop1d = nn.Dropout(0.5)\n",
        "        self.BatchNorm2d1 = nn.BatchNorm2d(num_features=9)\n",
        "        self.BatchNorm2d3 = nn.BatchNorm2d(num_features=54)\n",
        "        self.fc1 = nn.Linear(41472, 5000)\n",
        "        self.fc2 = nn.Linear(5000, 5000)\n",
        "        self.fc3 = nn.Linear(5000, 5000)\n",
        "        self.fc4 = nn.Linear(5000, num_classes)\n",
        "\n",
        "    def forward(self, x):\n",
        "        x = F.relu(self.BatchNorm2d1(self.conv1(x)))\n",
        "        x = F.relu(self.conv2(x))\n",
        "        x = F.relu(self.BatchNorm2d3(self.conv3(x)))\n",
        "        x = F.relu(self.conv4(x))\n",
        "        x = self.pool5(x)\n",
        "        x = F.relu(self.conv5(x))\n",
        "        x = F.relu(self.conv6(x))\n",
        "        x = F.relu(self.conv7(x))\n",
        "        x = self.pool2(x)\n",
        "        x = F.relu(self.conv8(x))\n",
        "\n",
        "        x = x.reshape(x.shape[0], -1)\n",
        "\n",
        "        x = self.fc1(x)\n",
        "        #x = self.drop1d(x)\n",
        "        x = self.fc2(x)\n",
        "        #x = self.drop1d(x)\n",
        "        x = self.fc3(x)\n",
        "        #x = self.drop1d(x)\n",
        "        x = self.fc4(x)\n",
        "        return x"
      ]
    },
    {
      "cell_type": "code",
      "execution_count": 5,
      "metadata": {
        "colab": {
          "base_uri": "https://localhost:8080/"
        },
        "id": "AA56kxVRIL6P",
        "outputId": "f4864a1b-31cf-4464-b74e-423d215dc97e",
        "pycharm": {
          "name": "#%%\n"
        }
      },
      "outputs": [
        {
          "name": "stdout",
          "output_type": "stream",
          "text": [
            "initial shape 320 240\n",
            "after 1st conv 312.0 232.0\n",
            "after 2nd conv 306.0 226.0\n",
            "after 3rd conv 302.0 222.0\n",
            "after 4th conv 300.0 220.0\n",
            "after 1st pooling 60.0 44.0\n",
            "after 5th conv 56.0 40.0\n",
            "after 6th conv 54.0 38.0\n",
            "after 7th conv 52.0 36.0\n",
            "after 2nd pooling 26.0 18.0\n",
            "after 8th conv 24.0 16.0\n",
            "Size of end output 41472.0\n"
          ]
        }
      ],
      "source": [
        "# calculate outputs shape of layers\n",
        "W=320\n",
        "H=240\n",
        "print('initial shape',W,H)\n",
        "#1st conv\n",
        "W=(W-11+2*1)/1+1\n",
        "H=(H-11+2*1)/1+1\n",
        "print('after 1st conv',W,H)\n",
        "# 2st conv\n",
        "W=(W-7+2*0)/1+1\n",
        "H=(H-7+2*0)/1+1\n",
        "print('after 2nd conv',W,H)\n",
        "# 3nd conv\n",
        "W=(W-5+2*0)/1+1\n",
        "H=(H-5+2*0)/1+1\n",
        "print('after 3rd conv',W,H)\n",
        "# 4nd conv#\n",
        "W=(W-5+2*1)/1+1\n",
        "H=(H-5+2*1)/1+1\n",
        "print('after 4th conv',W,H)\n",
        "# pool5\n",
        "W=W/5\n",
        "H=H/5\n",
        "print('after 1st pooling',W,H)\n",
        "# 5nd conv\n",
        "W=(W-5+2*0)/1+1\n",
        "H=(H-5+2*0)/1+1\n",
        "print('after 5th conv',W,H)\n",
        "# 6nd conv\n",
        "W=(W-3+2*0)/1+1\n",
        "H=(H-3+2*0)/1+1\n",
        "print('after 6th conv',W,H)\n",
        "# 7nd conv\n",
        "W=(W-3+2*0)/1+1\n",
        "H=(H-3+2*0)/1+1\n",
        "print('after 7th conv',W,H)\n",
        "# pool2\n",
        "W=W/2\n",
        "H=H/2\n",
        "print('after 2nd pooling',W,H)\n",
        "# 8nd conv\n",
        "W=(W-3+2*0)/1+1\n",
        "H=(H-3+2*0)/1+1\n",
        "print('after 8th conv',W,H)\n",
        "\n",
        "number_out_channels = 108\n",
        "print('Size of end output',H*W*number_out_channels)\n"
      ]
    },
    {
      "cell_type": "code",
      "execution_count": 23,
      "metadata": {
        "colab": {
          "base_uri": "https://localhost:8080/",
          "height": 286
        },
        "id": "8J5dzrruHsBe",
        "outputId": "9296df64-69b5-4f49-f01e-3867810b649b",
        "pycharm": {
          "name": "#%%\n"
        }
      },
      "outputs": [
        {
          "name": "stdout",
          "output_type": "stream",
          "text": [
            "using: cuda\n"
          ]
        },
        {
          "ename": "NameError",
          "evalue": "name 'mean_train' is not defined",
          "output_type": "error",
          "traceback": [
            "\u001b[0;31m---------------------------------------------------------------------------\u001b[0m",
            "\u001b[0;31mNameError\u001b[0m                                 Traceback (most recent call last)",
            "\u001b[1;32m/Users/michalchrzanowski/Library/CloudStorage/GoogleDrive-mp.chrzanowsk3@student.uw.edu.pl/My Drive/Files/Programming/Machine Learning/CNN_BloodCell/CNN_BloodCell_1.ipynb Cell 13\u001b[0m in \u001b[0;36m<cell line: 17>\u001b[0;34m()\u001b[0m\n\u001b[1;32m     <a href='vscode-notebook-cell:/Users/michalchrzanowski/Library/CloudStorage/GoogleDrive-mp.chrzanowsk3%40student.uw.edu.pl/My%20Drive/Files/Programming/Machine%20Learning/CNN_BloodCell/CNN_BloodCell_1.ipynb#X13sZmlsZQ%3D%3D?line=13'>14</a>\u001b[0m model\u001b[39m.\u001b[39mto(device) \n\u001b[1;32m     <a href='vscode-notebook-cell:/Users/michalchrzanowski/Library/CloudStorage/GoogleDrive-mp.chrzanowsk3%40student.uw.edu.pl/My%20Drive/Files/Programming/Machine%20Learning/CNN_BloodCell/CNN_BloodCell_1.ipynb#X13sZmlsZQ%3D%3D?line=15'>16</a>\u001b[0m \u001b[39m# define transformations for datasets, stds and means have been calculated before with cell above on dataloaders without normalization\u001b[39;00m\n\u001b[1;32m     <a href='vscode-notebook-cell:/Users/michalchrzanowski/Library/CloudStorage/GoogleDrive-mp.chrzanowsk3%40student.uw.edu.pl/My%20Drive/Files/Programming/Machine%20Learning/CNN_BloodCell/CNN_BloodCell_1.ipynb#X13sZmlsZQ%3D%3D?line=16'>17</a>\u001b[0m transform_train \u001b[39m=\u001b[39m transforms\u001b[39m.\u001b[39mCompose([transforms\u001b[39m.\u001b[39mToTensor(),\n\u001b[0;32m---> <a href='vscode-notebook-cell:/Users/michalchrzanowski/Library/CloudStorage/GoogleDrive-mp.chrzanowsk3%40student.uw.edu.pl/My%20Drive/Files/Programming/Machine%20Learning/CNN_BloodCell/CNN_BloodCell_1.ipynb#X13sZmlsZQ%3D%3D?line=17'>18</a>\u001b[0m                                       transforms\u001b[39m.\u001b[39mNormalize(mean_train,std_train)])\n\u001b[1;32m     <a href='vscode-notebook-cell:/Users/michalchrzanowski/Library/CloudStorage/GoogleDrive-mp.chrzanowsk3%40student.uw.edu.pl/My%20Drive/Files/Programming/Machine%20Learning/CNN_BloodCell/CNN_BloodCell_1.ipynb#X13sZmlsZQ%3D%3D?line=18'>19</a>\u001b[0m transform_test \u001b[39m=\u001b[39m transforms\u001b[39m.\u001b[39mCompose([transforms\u001b[39m.\u001b[39mToTensor(),\n\u001b[1;32m     <a href='vscode-notebook-cell:/Users/michalchrzanowski/Library/CloudStorage/GoogleDrive-mp.chrzanowsk3%40student.uw.edu.pl/My%20Drive/Files/Programming/Machine%20Learning/CNN_BloodCell/CNN_BloodCell_1.ipynb#X13sZmlsZQ%3D%3D?line=19'>20</a>\u001b[0m                                      transforms\u001b[39m.\u001b[39mNormalize(mean_test, std_test)])\n\u001b[1;32m     <a href='vscode-notebook-cell:/Users/michalchrzanowski/Library/CloudStorage/GoogleDrive-mp.chrzanowsk3%40student.uw.edu.pl/My%20Drive/Files/Programming/Machine%20Learning/CNN_BloodCell/CNN_BloodCell_1.ipynb#X13sZmlsZQ%3D%3D?line=21'>22</a>\u001b[0m \u001b[39m#initialize datasets and dataloaders\u001b[39;00m\n",
            "\u001b[0;31mNameError\u001b[0m: name 'mean_train' is not defined"
          ]
        }
      ],
      "source": [
        "torch.cuda.empty_cache()\n",
        "# Set device\n",
        "device = torch.device(\"cuda\" if torch.cuda.is_available() else \"cpu\")\n",
        "print(f'using: {device}')\n",
        "torch.backends.cudnn.benchmark = True #let cudnn chose most efficient way of calculating convulsions\n",
        "\n",
        "#Connenting to wandb project to log data there\n",
        "import wandb\n",
        "wandb.init(mode=\"disabled\")\n",
        "#wandb.init(project=\"CNN_BloodCell_1\")\n",
        "\n",
        "# Initialize network\n",
        "model = CNN(in_channels=in_channels, num_classes=num_classes)\n",
        "model.to(device) \n",
        "\n",
        "# define transformations for datasets, stds and means have been calculated before with cell above on dataloaders without normalization\n",
        "transform_train = transforms.Compose([transforms.ToTensor(),\n",
        "                                      transforms.Normalize(mean_train,std_train)])\n",
        "transform_test = transforms.Compose([transforms.ToTensor(),\n",
        "                                     transforms.Normalize(mean_test, std_test)])\n",
        "\n",
        "#initialize datasets and dataloaders\n",
        "dataset_train = BloodCell_train(root=root, transform=transform_train)\n",
        "dataset_test = BloodCell_test(root=root, transform=transform_test)\n",
        "\n",
        "# set shuffle = True to randomize order\n",
        "# To avoid blocking computation code with data loading we set num_workers = 2\n",
        "# pin_memory = True will automatically put the fetched data Tensors in pinned memory, and thus enables faster data transfer to CUDA-enabled GPUs.\n",
        "train_loader = DataLoader(dataset=dataset_train, batch_size=batch_size, shuffle=True, num_workers=2, pin_memory=True)\n",
        "test_loader = DataLoader(dataset=dataset_test, batch_size=batch_size, shuffle=True, num_workers=2, pin_memory=True)"
      ]
    },
    {
      "cell_type": "code",
      "execution_count": 17,
      "metadata": {
        "colab": {
          "base_uri": "https://localhost:8080/"
        },
        "id": "60SNawqHevcG",
        "outputId": "d0382f95-2dbf-497e-e892-b8acae245ea5",
        "pycharm": {
          "name": "#%%\n"
        }
      },
      "outputs": [
        {
          "name": "stdout",
          "output_type": "stream",
          "text": [
            "Number of trained parameters in model: 257 980 958\n"
          ]
        }
      ],
      "source": [
        "mode_par_num = sum(p.numel() for p in model.parameters() if p.requires_grad)\n",
        "\n",
        "print(\"Number of trained parameters in model: \" + '{:,}'.format(mode_par_num).replace(',', ' '))"
      ]
    },
    {
      "cell_type": "code",
      "execution_count": 18,
      "metadata": {
        "id": "qBZBXfxrjtXE",
        "pycharm": {
          "name": "#%%\n"
        }
      },
      "outputs": [],
      "source": [
        "# Check accuracy on training & test to see how good our model\n",
        "def check_accuracy(loader, model):\n",
        "    num_correct = 0\n",
        "    num_samples = 0\n",
        "    model.eval()\n",
        "\n",
        "    with torch.no_grad():\n",
        "        for x, y in tqdm(loader):\n",
        "            x = x.to(device=device)\n",
        "            y = y.to(device=device)\n",
        "\n",
        "            scores = model(x)\n",
        "            _, predictions = scores.max(1)\n",
        "            num_correct += (predictions == y).sum()\n",
        "            num_samples += predictions.size(0)\n",
        "\n",
        "    model.train()\n",
        "    return num_correct / num_samples"
      ]
    },
    {
      "cell_type": "code",
      "execution_count": 22,
      "metadata": {
        "id": "DJ5CEXuZE2jG",
        "pycharm": {
          "name": "#%%\n"
        }
      },
      "outputs": [],
      "source": [
        "from datetime import datetime\n",
        "def save_model(test_acc):\n",
        "    dic_out = {'model_params': model.state_dict(), 'optimizer_params': optimizer.state_dict()}\n",
        "    df = pd.DataFrame.from_dict(dic_out)\n",
        "\n",
        "    # datetime object containing current date and time\n",
        "    now = datetime.now()\n",
        "    print(\"now =\", now)\n",
        "    dt_string = now.strftime(\"%d_%m_%Y\")\n",
        "\n",
        "    # save model dict on drive with time signature\n",
        "    path = f'/logs/model_{dt_string}_{test_acc}.csv'\n",
        "    df.to_csv(path, index = False, header=True)"
      ]
    },
    {
      "cell_type": "code",
      "execution_count": 20,
      "metadata": {
        "colab": {
          "base_uri": "https://localhost:8080/",
          "height": 1000
        },
        "id": "sA7HZIVfBmWa",
        "outputId": "898dccca-827a-4283-802b-85b6b9a0fb9f",
        "pycharm": {
          "name": "#%%\n"
        }
      },
      "outputs": [
        {
          "name": "stdout",
          "output_type": "stream",
          "text": [
            "epoch nr 0\n"
          ]
        },
        {
          "name": "stderr",
          "output_type": "stream",
          "text": [
            "100%|██████████| 312/312 [01:21<00:00,  3.82it/s]\n",
            "100%|██████████| 312/312 [00:17<00:00, 17.44it/s]\n",
            "100%|██████████| 78/78 [00:05<00:00, 14.90it/s]\n"
          ]
        },
        {
          "name": "stdout",
          "output_type": "stream",
          "text": [
            "now = 2022-10-23 17:07:34.022911\n"
          ]
        },
        {
          "ename": "OSError",
          "evalue": "Cannot save file into a non-existent directory: '/content/drive/MyDrive/ML'",
          "output_type": "error",
          "traceback": [
            "\u001b[0;31m---------------------------------------------------------------------------\u001b[0m",
            "\u001b[0;31mOSError\u001b[0m                                   Traceback (most recent call last)",
            "\u001b[1;32m/Users/michalchrzanowski/Library/CloudStorage/GoogleDrive-mp.chrzanowsk3@student.uw.edu.pl/My Drive/Files/Programming/Machine Learning/CNN_BloodCell/CNN_BloodCell_1.ipynb Cell 17\u001b[0m in \u001b[0;36m<cell line: 10>\u001b[0;34m()\u001b[0m\n\u001b[1;32m     <a href='vscode-notebook-cell:/Users/michalchrzanowski/Library/CloudStorage/GoogleDrive-mp.chrzanowsk3%40student.uw.edu.pl/My%20Drive/Files/Programming/Machine%20Learning/CNN_BloodCell/CNN_BloodCell_1.ipynb#X20sZmlsZQ%3D%3D?line=35'>36</a>\u001b[0m test_acc \u001b[39m=\u001b[39m check_accuracy(test_loader, model)\u001b[39m*\u001b[39m\u001b[39m100\u001b[39m\n\u001b[1;32m     <a href='vscode-notebook-cell:/Users/michalchrzanowski/Library/CloudStorage/GoogleDrive-mp.chrzanowsk3%40student.uw.edu.pl/My%20Drive/Files/Programming/Machine%20Learning/CNN_BloodCell/CNN_BloodCell_1.ipynb#X20sZmlsZQ%3D%3D?line=36'>37</a>\u001b[0m \u001b[39mif\u001b[39;00m test_acc \u001b[39m>\u001b[39m test_acc_best:\n\u001b[0;32m---> <a href='vscode-notebook-cell:/Users/michalchrzanowski/Library/CloudStorage/GoogleDrive-mp.chrzanowsk3%40student.uw.edu.pl/My%20Drive/Files/Programming/Machine%20Learning/CNN_BloodCell/CNN_BloodCell_1.ipynb#X20sZmlsZQ%3D%3D?line=37'>38</a>\u001b[0m     save_model(test_acc)\n\u001b[1;32m     <a href='vscode-notebook-cell:/Users/michalchrzanowski/Library/CloudStorage/GoogleDrive-mp.chrzanowsk3%40student.uw.edu.pl/My%20Drive/Files/Programming/Machine%20Learning/CNN_BloodCell/CNN_BloodCell_1.ipynb#X20sZmlsZQ%3D%3D?line=38'>39</a>\u001b[0m     test_acc_best \u001b[39m=\u001b[39m test_acc\n\u001b[1;32m     <a href='vscode-notebook-cell:/Users/michalchrzanowski/Library/CloudStorage/GoogleDrive-mp.chrzanowsk3%40student.uw.edu.pl/My%20Drive/Files/Programming/Machine%20Learning/CNN_BloodCell/CNN_BloodCell_1.ipynb#X20sZmlsZQ%3D%3D?line=39'>40</a>\u001b[0m     train_acc_best \u001b[39m=\u001b[39m train_acc\n",
            "\u001b[1;32m/Users/michalchrzanowski/Library/CloudStorage/GoogleDrive-mp.chrzanowsk3@student.uw.edu.pl/My Drive/Files/Programming/Machine Learning/CNN_BloodCell/CNN_BloodCell_1.ipynb Cell 17\u001b[0m in \u001b[0;36msave_model\u001b[0;34m(test_acc)\u001b[0m\n\u001b[1;32m     <a href='vscode-notebook-cell:/Users/michalchrzanowski/Library/CloudStorage/GoogleDrive-mp.chrzanowsk3%40student.uw.edu.pl/My%20Drive/Files/Programming/Machine%20Learning/CNN_BloodCell/CNN_BloodCell_1.ipynb#X20sZmlsZQ%3D%3D?line=10'>11</a>\u001b[0m \u001b[39m# save model dict on Google drive with time signature\u001b[39;00m\n\u001b[1;32m     <a href='vscode-notebook-cell:/Users/michalchrzanowski/Library/CloudStorage/GoogleDrive-mp.chrzanowsk3%40student.uw.edu.pl/My%20Drive/Files/Programming/Machine%20Learning/CNN_BloodCell/CNN_BloodCell_1.ipynb#X20sZmlsZQ%3D%3D?line=11'>12</a>\u001b[0m path \u001b[39m=\u001b[39m \u001b[39mf\u001b[39m\u001b[39m'\u001b[39m\u001b[39m/content/drive/MyDrive/ML/CNN_BloodCell_\u001b[39m\u001b[39m{\u001b[39;00mdt_string\u001b[39m}\u001b[39;00m\u001b[39m_\u001b[39m\u001b[39m{\u001b[39;00mtest_acc\u001b[39m}\u001b[39;00m\u001b[39m.csv\u001b[39m\u001b[39m'\u001b[39m\n\u001b[0;32m---> <a href='vscode-notebook-cell:/Users/michalchrzanowski/Library/CloudStorage/GoogleDrive-mp.chrzanowsk3%40student.uw.edu.pl/My%20Drive/Files/Programming/Machine%20Learning/CNN_BloodCell/CNN_BloodCell_1.ipynb#X20sZmlsZQ%3D%3D?line=12'>13</a>\u001b[0m df\u001b[39m.\u001b[39;49mto_csv(path, index \u001b[39m=\u001b[39;49m \u001b[39mFalse\u001b[39;49;00m, header\u001b[39m=\u001b[39;49m\u001b[39mTrue\u001b[39;49;00m)\n",
            "File \u001b[0;32m/usr/local/lib/python3.9/dist-packages/pandas/core/generic.py:3551\u001b[0m, in \u001b[0;36mNDFrame.to_csv\u001b[0;34m(self, path_or_buf, sep, na_rep, float_format, columns, header, index, index_label, mode, encoding, compression, quoting, quotechar, line_terminator, chunksize, date_format, doublequote, escapechar, decimal, errors, storage_options)\u001b[0m\n\u001b[1;32m   3540\u001b[0m df \u001b[39m=\u001b[39m \u001b[39mself\u001b[39m \u001b[39mif\u001b[39;00m \u001b[39misinstance\u001b[39m(\u001b[39mself\u001b[39m, ABCDataFrame) \u001b[39melse\u001b[39;00m \u001b[39mself\u001b[39m\u001b[39m.\u001b[39mto_frame()\n\u001b[1;32m   3542\u001b[0m formatter \u001b[39m=\u001b[39m DataFrameFormatter(\n\u001b[1;32m   3543\u001b[0m     frame\u001b[39m=\u001b[39mdf,\n\u001b[1;32m   3544\u001b[0m     header\u001b[39m=\u001b[39mheader,\n\u001b[0;32m   (...)\u001b[0m\n\u001b[1;32m   3548\u001b[0m     decimal\u001b[39m=\u001b[39mdecimal,\n\u001b[1;32m   3549\u001b[0m )\n\u001b[0;32m-> 3551\u001b[0m \u001b[39mreturn\u001b[39;00m DataFrameRenderer(formatter)\u001b[39m.\u001b[39;49mto_csv(\n\u001b[1;32m   3552\u001b[0m     path_or_buf,\n\u001b[1;32m   3553\u001b[0m     line_terminator\u001b[39m=\u001b[39;49mline_terminator,\n\u001b[1;32m   3554\u001b[0m     sep\u001b[39m=\u001b[39;49msep,\n\u001b[1;32m   3555\u001b[0m     encoding\u001b[39m=\u001b[39;49mencoding,\n\u001b[1;32m   3556\u001b[0m     errors\u001b[39m=\u001b[39;49merrors,\n\u001b[1;32m   3557\u001b[0m     compression\u001b[39m=\u001b[39;49mcompression,\n\u001b[1;32m   3558\u001b[0m     quoting\u001b[39m=\u001b[39;49mquoting,\n\u001b[1;32m   3559\u001b[0m     columns\u001b[39m=\u001b[39;49mcolumns,\n\u001b[1;32m   3560\u001b[0m     index_label\u001b[39m=\u001b[39;49mindex_label,\n\u001b[1;32m   3561\u001b[0m     mode\u001b[39m=\u001b[39;49mmode,\n\u001b[1;32m   3562\u001b[0m     chunksize\u001b[39m=\u001b[39;49mchunksize,\n\u001b[1;32m   3563\u001b[0m     quotechar\u001b[39m=\u001b[39;49mquotechar,\n\u001b[1;32m   3564\u001b[0m     date_format\u001b[39m=\u001b[39;49mdate_format,\n\u001b[1;32m   3565\u001b[0m     doublequote\u001b[39m=\u001b[39;49mdoublequote,\n\u001b[1;32m   3566\u001b[0m     escapechar\u001b[39m=\u001b[39;49mescapechar,\n\u001b[1;32m   3567\u001b[0m     storage_options\u001b[39m=\u001b[39;49mstorage_options,\n\u001b[1;32m   3568\u001b[0m )\n",
            "File \u001b[0;32m/usr/local/lib/python3.9/dist-packages/pandas/io/formats/format.py:1180\u001b[0m, in \u001b[0;36mDataFrameRenderer.to_csv\u001b[0;34m(self, path_or_buf, encoding, sep, columns, index_label, mode, compression, quoting, quotechar, line_terminator, chunksize, date_format, doublequote, escapechar, errors, storage_options)\u001b[0m\n\u001b[1;32m   1159\u001b[0m     created_buffer \u001b[39m=\u001b[39m \u001b[39mFalse\u001b[39;00m\n\u001b[1;32m   1161\u001b[0m csv_formatter \u001b[39m=\u001b[39m CSVFormatter(\n\u001b[1;32m   1162\u001b[0m     path_or_buf\u001b[39m=\u001b[39mpath_or_buf,\n\u001b[1;32m   1163\u001b[0m     line_terminator\u001b[39m=\u001b[39mline_terminator,\n\u001b[0;32m   (...)\u001b[0m\n\u001b[1;32m   1178\u001b[0m     formatter\u001b[39m=\u001b[39m\u001b[39mself\u001b[39m\u001b[39m.\u001b[39mfmt,\n\u001b[1;32m   1179\u001b[0m )\n\u001b[0;32m-> 1180\u001b[0m csv_formatter\u001b[39m.\u001b[39;49msave()\n\u001b[1;32m   1182\u001b[0m \u001b[39mif\u001b[39;00m created_buffer:\n\u001b[1;32m   1183\u001b[0m     \u001b[39massert\u001b[39;00m \u001b[39misinstance\u001b[39m(path_or_buf, StringIO)\n",
            "File \u001b[0;32m/usr/local/lib/python3.9/dist-packages/pandas/io/formats/csvs.py:241\u001b[0m, in \u001b[0;36mCSVFormatter.save\u001b[0;34m(self)\u001b[0m\n\u001b[1;32m    237\u001b[0m \u001b[39m\"\"\"\u001b[39;00m\n\u001b[1;32m    238\u001b[0m \u001b[39mCreate the writer & save.\u001b[39;00m\n\u001b[1;32m    239\u001b[0m \u001b[39m\"\"\"\u001b[39;00m\n\u001b[1;32m    240\u001b[0m \u001b[39m# apply compression and byte/text conversion\u001b[39;00m\n\u001b[0;32m--> 241\u001b[0m \u001b[39mwith\u001b[39;00m get_handle(\n\u001b[1;32m    242\u001b[0m     \u001b[39mself\u001b[39;49m\u001b[39m.\u001b[39;49mfilepath_or_buffer,\n\u001b[1;32m    243\u001b[0m     \u001b[39mself\u001b[39;49m\u001b[39m.\u001b[39;49mmode,\n\u001b[1;32m    244\u001b[0m     encoding\u001b[39m=\u001b[39;49m\u001b[39mself\u001b[39;49m\u001b[39m.\u001b[39;49mencoding,\n\u001b[1;32m    245\u001b[0m     errors\u001b[39m=\u001b[39;49m\u001b[39mself\u001b[39;49m\u001b[39m.\u001b[39;49merrors,\n\u001b[1;32m    246\u001b[0m     compression\u001b[39m=\u001b[39;49m\u001b[39mself\u001b[39;49m\u001b[39m.\u001b[39;49mcompression,\n\u001b[1;32m    247\u001b[0m     storage_options\u001b[39m=\u001b[39;49m\u001b[39mself\u001b[39;49m\u001b[39m.\u001b[39;49mstorage_options,\n\u001b[1;32m    248\u001b[0m ) \u001b[39mas\u001b[39;00m handles:\n\u001b[1;32m    249\u001b[0m \n\u001b[1;32m    250\u001b[0m     \u001b[39m# Note: self.encoding is irrelevant here\u001b[39;00m\n\u001b[1;32m    251\u001b[0m     \u001b[39mself\u001b[39m\u001b[39m.\u001b[39mwriter \u001b[39m=\u001b[39m csvlib\u001b[39m.\u001b[39mwriter(\n\u001b[1;32m    252\u001b[0m         handles\u001b[39m.\u001b[39mhandle,\n\u001b[1;32m    253\u001b[0m         lineterminator\u001b[39m=\u001b[39m\u001b[39mself\u001b[39m\u001b[39m.\u001b[39mline_terminator,\n\u001b[0;32m   (...)\u001b[0m\n\u001b[1;32m    258\u001b[0m         quotechar\u001b[39m=\u001b[39m\u001b[39mself\u001b[39m\u001b[39m.\u001b[39mquotechar,\n\u001b[1;32m    259\u001b[0m     )\n\u001b[1;32m    261\u001b[0m     \u001b[39mself\u001b[39m\u001b[39m.\u001b[39m_save()\n",
            "File \u001b[0;32m/usr/local/lib/python3.9/dist-packages/pandas/io/common.py:694\u001b[0m, in \u001b[0;36mget_handle\u001b[0;34m(path_or_buf, mode, encoding, compression, memory_map, is_text, errors, storage_options)\u001b[0m\n\u001b[1;32m    692\u001b[0m \u001b[39m# Only for write methods\u001b[39;00m\n\u001b[1;32m    693\u001b[0m \u001b[39mif\u001b[39;00m \u001b[39m\"\u001b[39m\u001b[39mr\u001b[39m\u001b[39m\"\u001b[39m \u001b[39mnot\u001b[39;00m \u001b[39min\u001b[39;00m mode \u001b[39mand\u001b[39;00m is_path:\n\u001b[0;32m--> 694\u001b[0m     check_parent_directory(\u001b[39mstr\u001b[39;49m(handle))\n\u001b[1;32m    696\u001b[0m \u001b[39mif\u001b[39;00m compression:\n\u001b[1;32m    697\u001b[0m     \u001b[39mif\u001b[39;00m compression \u001b[39m!=\u001b[39m \u001b[39m\"\u001b[39m\u001b[39mzstd\u001b[39m\u001b[39m\"\u001b[39m:\n\u001b[1;32m    698\u001b[0m         \u001b[39m# compression libraries do not like an explicit text-mode\u001b[39;00m\n",
            "File \u001b[0;32m/usr/local/lib/python3.9/dist-packages/pandas/io/common.py:568\u001b[0m, in \u001b[0;36mcheck_parent_directory\u001b[0;34m(path)\u001b[0m\n\u001b[1;32m    566\u001b[0m parent \u001b[39m=\u001b[39m Path(path)\u001b[39m.\u001b[39mparent\n\u001b[1;32m    567\u001b[0m \u001b[39mif\u001b[39;00m \u001b[39mnot\u001b[39;00m parent\u001b[39m.\u001b[39mis_dir():\n\u001b[0;32m--> 568\u001b[0m     \u001b[39mraise\u001b[39;00m \u001b[39mOSError\u001b[39;00m(\u001b[39mrf\u001b[39m\u001b[39m\"\u001b[39m\u001b[39mCannot save file into a non-existent directory: \u001b[39m\u001b[39m'\u001b[39m\u001b[39m{\u001b[39;00mparent\u001b[39m}\u001b[39;00m\u001b[39m'\u001b[39m\u001b[39m\"\u001b[39m)\n",
            "\u001b[0;31mOSError\u001b[0m: Cannot save file into a non-existent directory: '/content/drive/MyDrive/ML'"
          ]
        }
      ],
      "source": [
        "# Loss and optimizer\n",
        "criterion = nn.CrossEntropyLoss()\n",
        "optimizer = optim.Adam(model.parameters(), lr=learning_rate, weight_decay=weight_decay)\n",
        "start_time = time.time()\n",
        "# Optional\n",
        "wandb.watch(model, criterion, log=\"all\", log_freq=400)\n",
        "train_acc_best = 0\n",
        "test_acc_best = 0\n",
        "# Train Network\n",
        "for epoch in range(num_epochs):\n",
        "    print(f'epoch nr {epoch}')\n",
        "    for data, targets in tqdm(train_loader):\n",
        "        # Get data to device\n",
        "        data = data.to(device=device)\n",
        "        targets = targets.to(device=device)\n",
        "\n",
        "\n",
        "        # setting parameteres gradients to None, takes less memory than setting to '0'\n",
        "        for param in model.parameters():\n",
        "            param.grad = None\n",
        "\n",
        "        # forward and loss calculation\n",
        "        scores=model(data)\n",
        "        loss = criterion(scores, targets)\n",
        "        # log loss to wandb\n",
        "        wandb.log({\"loss\": loss})\n",
        "\n",
        "        # backward\n",
        "        loss.backward()\n",
        "\n",
        "        # gradient descent or adam step\n",
        "        optimizer.step()\n",
        "    \n",
        "    # Calculate Accuracy and save model if test acc increased\n",
        "    train_acc = check_accuracy(train_loader, model)*100\n",
        "    test_acc = check_accuracy(test_loader, model)*100\n",
        "    if test_acc > test_acc_best:\n",
        "        save_model(test_acc)\n",
        "        test_acc_best = test_acc\n",
        "        train_acc_best = train_acc\n",
        "        print(f'model saved: train_acc:{train_acc_best}, test_acc:{test_acc_best}')\n",
        "\n",
        "    # log train_acc and test_acc to wandb\n",
        "    wandb.log({\"train_acc\": train_acc})\n",
        "    wandb.log({\"test_acc\": test_acc})\n",
        "    print(f\"Accuracy on training set: {train_acc:.2f}\")    \n",
        "    print(f\"Accuracy on test set: {test_acc:.2f}\")\n",
        "\n",
        "    #print('cached CUDA memory: ',torch.cuda.memory_cached())\n",
        "print(\"--- %s seconds ---\" % (time.time() - start_time))\n",
        "torch.cuda.empty_cache()\n",
        "print(f\"Highest accuracy on training set: {train_acc_best}\")\n",
        "print(f\"Highest accuracy on test set: {test_acc_best}\")"
      ]
    },
    {
      "cell_type": "code",
      "execution_count": null,
      "metadata": {},
      "outputs": [],
      "source": []
    }
  ],
  "metadata": {
    "accelerator": "GPU",
    "colab": {
      "collapsed_sections": [],
      "provenance": []
    },
    "gpuClass": "standard",
    "kernelspec": {
      "display_name": "Python 3 (ipykernel)",
      "language": "python",
      "name": "python3"
    },
    "language_info": {
      "codemirror_mode": {
        "name": "ipython",
        "version": 3
      },
      "file_extension": ".py",
      "mimetype": "text/x-python",
      "name": "python",
      "nbconvert_exporter": "python",
      "pygments_lexer": "ipython3",
      "version": "3.9.13"
    },
    "vscode": {
      "interpreter": {
        "hash": "a9dc89d7e7574d154d845016cb28e163d7de30868d1de894c627855ae4c7cc3b"
      }
    }
  },
  "nbformat": 4,
  "nbformat_minor": 0
}
